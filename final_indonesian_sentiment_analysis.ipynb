{
  "nbformat": 4,
  "nbformat_minor": 0,
  "metadata": {
    "kernelspec": {
      "name": "python3",
      "display_name": "Python 3",
      "language": "python"
    },
    "language_info": {
      "name": "python",
      "version": "3.7.6",
      "mimetype": "text/x-python",
      "codemirror_mode": {
        "name": "ipython",
        "version": 3
      },
      "pygments_lexer": "ipython3",
      "nbconvert_exporter": "python",
      "file_extension": ".py"
    },
    "colab": {
      "name": "final-indonesian-sentiment-analysis.ipynb",
      "provenance": [],
      "collapsed_sections": [],
      "include_colab_link": true
    },
    "accelerator": "GPU"
  },
  "cells": [
    {
      "cell_type": "markdown",
      "metadata": {
        "id": "view-in-github",
        "colab_type": "text"
      },
      "source": [
        "<a href=\"https://colab.research.google.com/github/shaanbarca/datascience_portfolio/blob/main/final_indonesian_sentiment_analysis.ipynb\" target=\"_parent\"><img src=\"https://colab.research.google.com/assets/colab-badge.svg\" alt=\"Open In Colab\"/></a>"
      ]
    },
    {
      "cell_type": "code",
      "metadata": {
        "colab": {
          "base_uri": "https://localhost:8080/"
        },
        "id": "Yxw_huuZPN5U",
        "outputId": "0d84a48a-9a25-4f03-c9b8-c449c4f54ea3"
      },
      "source": [
        "!pip install Sastrawi"
      ],
      "execution_count": null,
      "outputs": [
        {
          "output_type": "stream",
          "text": [
            "Collecting Sastrawi\n",
            "\u001b[?25l  Downloading https://files.pythonhosted.org/packages/6f/4b/bab676953da3103003730b8fcdfadbdd20f333d4add10af949dd5c51e6ed/Sastrawi-1.0.1-py2.py3-none-any.whl (209kB)\n",
            "\r\u001b[K     |█▋                              | 10kB 24.5MB/s eta 0:00:01\r\u001b[K     |███▏                            | 20kB 18.7MB/s eta 0:00:01\r\u001b[K     |████▊                           | 30kB 15.2MB/s eta 0:00:01\r\u001b[K     |██████▎                         | 40kB 15.7MB/s eta 0:00:01\r\u001b[K     |███████▉                        | 51kB 18.3MB/s eta 0:00:01\r\u001b[K     |█████████▍                      | 61kB 20.8MB/s eta 0:00:01\r\u001b[K     |███████████                     | 71kB 14.8MB/s eta 0:00:01\r\u001b[K     |████████████▌                   | 81kB 16.2MB/s eta 0:00:01\r\u001b[K     |██████████████                  | 92kB 15.6MB/s eta 0:00:01\r\u001b[K     |███████████████▋                | 102kB 15.8MB/s eta 0:00:01\r\u001b[K     |█████████████████▏              | 112kB 15.8MB/s eta 0:00:01\r\u001b[K     |██████████████████▊             | 122kB 15.8MB/s eta 0:00:01\r\u001b[K     |████████████████████▎           | 133kB 15.8MB/s eta 0:00:01\r\u001b[K     |█████████████████████▉          | 143kB 15.8MB/s eta 0:00:01\r\u001b[K     |███████████████████████▍        | 153kB 15.8MB/s eta 0:00:01\r\u001b[K     |█████████████████████████       | 163kB 15.8MB/s eta 0:00:01\r\u001b[K     |██████████████████████████▋     | 174kB 15.8MB/s eta 0:00:01\r\u001b[K     |████████████████████████████▏   | 184kB 15.8MB/s eta 0:00:01\r\u001b[K     |█████████████████████████████▊  | 194kB 15.8MB/s eta 0:00:01\r\u001b[K     |███████████████████████████████▎| 204kB 15.8MB/s eta 0:00:01\r\u001b[K     |████████████████████████████████| 215kB 15.8MB/s \n",
            "\u001b[?25hInstalling collected packages: Sastrawi\n",
            "Successfully installed Sastrawi-1.0.1\n"
          ],
          "name": "stdout"
        }
      ]
    },
    {
      "cell_type": "code",
      "metadata": {
        "_uuid": "d629ff2d2480ee46fbb7e2d37f6b5fab8052498a",
        "_cell_guid": "79c7e3d0-c299-4dcb-8224-4455121ee9b0",
        "trusted": true,
        "id": "FaYy83i1Njlk"
      },
      "source": [
        "# DataFrame\n",
        "import pandas as pd\n",
        "\n",
        "# Matplot\n",
        "import matplotlib.pyplot as plt\n",
        "%matplotlib inline\n",
        "\n",
        "# Scikit-learn\n",
        "from sklearn.model_selection import train_test_split\n",
        "from sklearn.preprocessing import LabelEncoder\n",
        "from sklearn.metrics import confusion_matrix, classification_report, accuracy_score\n",
        "from sklearn.manifold import TSNE\n",
        "from sklearn.feature_extraction.text import TfidfVectorizer\n",
        "\n",
        "# Keras\n",
        "from keras.preprocessing.text import Tokenizer\n",
        "from keras.preprocessing.sequence import pad_sequences\n",
        "from keras.models import Sequential\n",
        "from keras.layers import Activation, Dense, Dropout, Embedding, Flatten, Conv1D, MaxPooling1D, LSTM\n",
        "from keras import utils\n",
        "from keras.callbacks import ReduceLROnPlateau, EarlyStopping\n",
        "\n",
        "# nltk\n",
        "import nltk\n",
        "from nltk.corpus import stopwords\n",
        "from  nltk.stem import SnowballStemmer\n",
        "\n",
        "#from Sastrawi.StopWordRemover.StopWordRemoverFactory import StopWordRemoverFactory\n",
        "# Word2vec\n",
        "import gensim\n",
        "\n",
        "# Utility\n",
        "import re\n",
        "import numpy as np\n",
        "import os\n",
        "from collections import Counter\n",
        "import logging\n",
        "import time\n",
        "import pickle\n",
        "import itertools\n",
        "\n",
        "# Set log\n",
        "logging.basicConfig(format='%(asctime)s : %(levelname)s : %(message)s', level=logging.INFO)\n",
        "\n"
      ],
      "execution_count": null,
      "outputs": []
    },
    {
      "cell_type": "code",
      "metadata": {
        "trusted": true,
        "id": "UPHzHkisNjlp"
      },
      "source": [
        "# TEXT CLENAING\n",
        "TEXT_CLEANING_RE = \"@\\S+|https?:\\S+|http?:\\S|[^A-Za-z0-9]+\"\n",
        "\n",
        "# WORD2VEC \n",
        "W2V_SIZE = 300\n",
        "W2V_WINDOW = 7\n",
        "W2V_EPOCH = 32\n",
        "W2V_MIN_COUNT = 10\n",
        "\n",
        "# KERAS\n",
        "SEQUENCE_LENGTH = 300\n",
        "EPOCHS = 8\n",
        "BATCH_SIZE =1024\n",
        "\n",
        "# SENTIMENT\n",
        "POSITIVE = \"POSITIVE\"\n",
        "NEGATIVE = \"NEGATIVE\"\n",
        "NEUTRAL = \"NEUTRAL\"\n",
        "SENTIMENT_THRESHOLDS = (0.4, 0.7)\n",
        "\n",
        "# EXPORT\n",
        "KERAS_MODEL = \"model.h5\"\n",
        "WORD2VEC_MODEL = \"model.w2v\"\n",
        "TOKENIZER_MODEL = \"tokenizer.pkl\"\n",
        "ENCODER_MODEL = \"encoder.pkl\""
      ],
      "execution_count": null,
      "outputs": []
    },
    {
      "cell_type": "code",
      "metadata": {
        "colab": {
          "resources": {
            "http://localhost:8080/nbextensions/google.colab/files.js": {
              "data": "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",
              "ok": true,
              "headers": [
                [
                  "content-type",
                  "application/javascript"
                ]
              ],
              "status": 200,
              "status_text": ""
            }
          },
          "base_uri": "https://localhost:8080/",
          "height": 72
        },
        "id": "jeJAnsy4Qvqx",
        "outputId": "e65544c0-6459-456a-d3e8-a99df5f35ab0"
      },
      "source": [
        "from google.colab import files\n",
        "uploaded = files.upload()\n"
      ],
      "execution_count": null,
      "outputs": [
        {
          "output_type": "display_data",
          "data": {
            "text/html": [
              "\n",
              "     <input type=\"file\" id=\"files-bb118f0a-3f69-4f50-ab30-9bbbb55284ff\" name=\"files[]\" multiple disabled\n",
              "        style=\"border:none\" />\n",
              "     <output id=\"result-bb118f0a-3f69-4f50-ab30-9bbbb55284ff\">\n",
              "      Upload widget is only available when the cell has been executed in the\n",
              "      current browser session. Please rerun this cell to enable.\n",
              "      </output>\n",
              "      <script src=\"/nbextensions/google.colab/files.js\"></script> "
            ],
            "text/plain": [
              "<IPython.core.display.HTML object>"
            ]
          },
          "metadata": {
            "tags": []
          }
        },
        {
          "output_type": "stream",
          "text": [
            "Saving out.csv to out.csv\n"
          ],
          "name": "stdout"
        }
      ]
    },
    {
      "cell_type": "code",
      "metadata": {
        "trusted": true,
        "id": "I6Jhkn69Njlp"
      },
      "source": [
        "df = pd.read_csv(r'out.csv',sep=',', error_bad_lines=False, engine='python')\n"
      ],
      "execution_count": null,
      "outputs": []
    },
    {
      "cell_type": "code",
      "metadata": {
        "trusted": true,
        "colab": {
          "base_uri": "https://localhost:8080/",
          "height": 204
        },
        "id": "6V7NxdwdNjlp",
        "outputId": "ef37cb0a-7260-4c62-e7fa-a27d6cae44a8"
      },
      "source": [
        "df.head(5)"
      ],
      "execution_count": null,
      "outputs": [
        {
          "output_type": "execute_result",
          "data": {
            "text/html": [
              "<div>\n",
              "<style scoped>\n",
              "    .dataframe tbody tr th:only-of-type {\n",
              "        vertical-align: middle;\n",
              "    }\n",
              "\n",
              "    .dataframe tbody tr th {\n",
              "        vertical-align: top;\n",
              "    }\n",
              "\n",
              "    .dataframe thead th {\n",
              "        text-align: right;\n",
              "    }\n",
              "</style>\n",
              "<table border=\"1\" class=\"dataframe\">\n",
              "  <thead>\n",
              "    <tr style=\"text-align: right;\">\n",
              "      <th></th>\n",
              "      <th>Tweet</th>\n",
              "      <th>negative</th>\n",
              "    </tr>\n",
              "  </thead>\n",
              "  <tbody>\n",
              "    <tr>\n",
              "      <th>0</th>\n",
              "      <td>disaat semua cowok berusaha melacak perhatian ...</td>\n",
              "      <td>1</td>\n",
              "    </tr>\n",
              "    <tr>\n",
              "      <th>1</th>\n",
              "      <td>RT USER: USER siapa yang telat ngasih tau elu?...</td>\n",
              "      <td>1</td>\n",
              "    </tr>\n",
              "    <tr>\n",
              "      <th>2</th>\n",
              "      <td>41. Kadang aku berfikir, kenapa aku tetap perc...</td>\n",
              "      <td>0</td>\n",
              "    </tr>\n",
              "    <tr>\n",
              "      <th>3</th>\n",
              "      <td>USER USER AKU ITU AKU\\n\\nKU TAU MATAMU SIPIT T...</td>\n",
              "      <td>0</td>\n",
              "    </tr>\n",
              "    <tr>\n",
              "      <th>4</th>\n",
              "      <td>USER USER Kaum cebong kapir udah keliatan dong...</td>\n",
              "      <td>1</td>\n",
              "    </tr>\n",
              "  </tbody>\n",
              "</table>\n",
              "</div>"
            ],
            "text/plain": [
              "                                               Tweet  negative\n",
              "0  disaat semua cowok berusaha melacak perhatian ...         1\n",
              "1  RT USER: USER siapa yang telat ngasih tau elu?...         1\n",
              "2  41. Kadang aku berfikir, kenapa aku tetap perc...         0\n",
              "3  USER USER AKU ITU AKU\\n\\nKU TAU MATAMU SIPIT T...         0\n",
              "4  USER USER Kaum cebong kapir udah keliatan dong...         1"
            ]
          },
          "metadata": {
            "tags": []
          },
          "execution_count": 6
        }
      ]
    },
    {
      "cell_type": "code",
      "metadata": {
        "trusted": true,
        "colab": {
          "base_uri": "https://localhost:8080/"
        },
        "id": "HfduUfkbNjlq",
        "outputId": "5a65e8fb-a9c8-49a5-a60f-c88045f1c35d"
      },
      "source": [
        "print(\"Dataset size:\", len(df))"
      ],
      "execution_count": null,
      "outputs": [
        {
          "output_type": "stream",
          "text": [
            "Dataset size: 13169\n"
          ],
          "name": "stdout"
        }
      ]
    },
    {
      "cell_type": "markdown",
      "metadata": {
        "id": "aFlWXAfXNjlq"
      },
      "source": [
        "mapping data for visualization"
      ]
    },
    {
      "cell_type": "code",
      "metadata": {
        "trusted": true,
        "id": "JFXMwdHXNjlq"
      },
      "source": [
        "decode_map = {1: \"NEGATIVE\", 0: \"NEUTRAL\", -1:\"POSITIVE\"}\n",
        "def decode_sentiment(label):\n",
        "    return decode_map[int(label)]"
      ],
      "execution_count": null,
      "outputs": []
    },
    {
      "cell_type": "code",
      "metadata": {
        "trusted": true,
        "id": "UWgraBJ5Njlq"
      },
      "source": [
        "df.negative = df.negative.apply(lambda x: decode_sentiment(x))"
      ],
      "execution_count": null,
      "outputs": []
    },
    {
      "cell_type": "code",
      "metadata": {
        "trusted": true,
        "colab": {
          "base_uri": "https://localhost:8080/",
          "height": 494
        },
        "id": "oGbJonc9Njlq",
        "outputId": "1ac5836f-46b6-492c-d252-244c941dc65d"
      },
      "source": [
        "target_cnt = Counter(df.negative)\n",
        "\n",
        "plt.figure(figsize=(16,8))\n",
        "plt.bar(target_cnt.keys(), target_cnt.values())\n",
        "plt.title(\"Dataset labels distribuition\")"
      ],
      "execution_count": null,
      "outputs": [
        {
          "output_type": "execute_result",
          "data": {
            "text/plain": [
              "Text(0.5, 1.0, 'Dataset labels distribuition')"
            ]
          },
          "metadata": {
            "tags": []
          },
          "execution_count": 10
        },
        {
          "output_type": "display_data",
          "data": {
            "image/png": "[encoded data removed]",
            "text/plain": [
              "<Figure size 1152x576 with 1 Axes>"
            ]
          },
          "metadata": {
            "tags": [],
            "needs_background": "light"
          }
        }
      ]
    },
    {
      "cell_type": "markdown",
      "metadata": {
        "id": "5QrhL7NbFvbI"
      },
      "source": [
        "We want to viszualize the data set to show the distribution of our data. Most of the tweets are neutral. While the datasets are not imbalanced, this distributon may affect our model's accuracy"
      ]
    },
    {
      "cell_type": "markdown",
      "metadata": {
        "id": "FqZoSZyvNjlr"
      },
      "source": [
        "Preprocess data\n",
        "\n",
        "\n"
      ]
    },
    {
      "cell_type": "code",
      "metadata": {
        "trusted": true,
        "id": "d7XAUd03Njlr"
      },
      "source": [
        "\n",
        "\n",
        "#from Sastrawi.Stemmer.StemmerFactory import StemmerFactory\n",
        "\n",
        "#create stemmer\n",
        "#factory = StemmerFactory()\n",
        "#stemmers = factory.create_stemmer()\n"
      ],
      "execution_count": null,
      "outputs": []
    },
    {
      "cell_type": "code",
      "metadata": {
        "colab": {
          "base_uri": "https://localhost:8080/"
        },
        "id": "CzbqoRnGRQ39",
        "outputId": "00747d31-0079-4a3b-99a6-d6c0abf47fc3"
      },
      "source": [
        "nltk.download('stopwords')"
      ],
      "execution_count": null,
      "outputs": [
        {
          "output_type": "stream",
          "text": [
            "[nltk_data] Downloading package stopwords to /root/nltk_data...\n",
            "[nltk_data]   Unzipping corpora/stopwords.zip.\n"
          ],
          "name": "stdout"
        },
        {
          "output_type": "execute_result",
          "data": {
            "text/plain": [
              "True"
            ]
          },
          "metadata": {
            "tags": []
          },
          "execution_count": 12
        }
      ]
    },
    {
      "cell_type": "code",
      "metadata": {
        "id": "lOUhW1N47_tp"
      },
      "source": [
        "important_words = ['janganlah','kasus','kurang','lagian','masalah','masalahnya','manalagi','mempersoalkan','mempertanyakan','mereka','bukan']"
      ],
      "execution_count": null,
      "outputs": []
    },
    {
      "cell_type": "code",
      "metadata": {
        "trusted": true,
        "id": "q9btUjEMNjlr"
      },
      "source": [
        "stop_words = set(stopwords.words('indonesian')).difference(important_words)  #for some reason stopwords are not removed i.e ini, dan "
      ],
      "execution_count": null,
      "outputs": []
    },
    {
      "cell_type": "code",
      "metadata": {
        "id": "uscdoNN0ZYxc"
      },
      "source": [
        "stop_words.remove(\"tidak\")\n"
      ],
      "execution_count": null,
      "outputs": []
    },
    {
      "cell_type": "code",
      "metadata": {
        "id": "NgJ3uk7gaa6t"
      },
      "source": [
        "stop_words.remove(\"enggak\")"
      ],
      "execution_count": null,
      "outputs": []
    },
    {
      "cell_type": "code",
      "metadata": {
        "id": "3jEELkJX3T6p"
      },
      "source": [
        "stop_words.remove(\"berlebihan\")"
      ],
      "execution_count": null,
      "outputs": []
    },
    {
      "cell_type": "code",
      "metadata": {
        "id": "uWljW_TS3fMO"
      },
      "source": [
        "stop_words.remove(\"bermacam\")"
      ],
      "execution_count": null,
      "outputs": []
    },
    {
      "cell_type": "code",
      "metadata": {
        "id": "yplMxXKx3mHy"
      },
      "source": [
        "stop_words.remove('bermacam-macam')"
      ],
      "execution_count": null,
      "outputs": []
    },
    {
      "cell_type": "code",
      "metadata": {
        "colab": {
          "base_uri": "https://localhost:8080/"
        },
        "id": "51UgVMe55M7B",
        "outputId": "48edf15a-d56d-43fc-e066-c1aa14ce3903"
      },
      "source": [
        "print(stop_words)"
      ],
      "execution_count": null,
      "outputs": [
        {
          "output_type": "stream",
          "text": [
            "{'ditunjuknya', 'ia', 'caranya', 'berakhirnya', 'bagaimanapun', 'sudahkah', 'tanpa', 'ternyata', 'seketika', 'terutama', 'sedikitnya', 'menanya', 'dijelaskan', 'atas', 'berapalah', 'katakanlah', 'lebih', 'mengakhiri', 'per', 'sebanyak', 'tentu', 'benar', 'beginikah', 'bukanlah', 'seberapa', 'kembali', 'bolehlah', 'semuanya', 'mengira', 'empat', 'setengah', 'perlu', 'berapakah', 'bagaikan', 'nanti', 'inginkan', 'sesegera', 'berikutnya', 'bapak', 'sekalian', 'sesekali', 'akhir', 'kamu', 'menanyakan', 'berkali-kali', 'apaan', 'antaranya', 'bersiap', 'pun', 'kemungkinannya', 'saja', 'siapakah', 'bung', 'awal', 'mengingat', 'mempergunakan', 'mengungkapkan', 'tidakkah', 'ataukah', 'seenaknya', 'bahkan', 'aku', 'asal', 'tandas', 'berikut', 'bagaimana', 'sejenak', 'terdiri', 'jadi', 'sebabnya', 'ditanya', 'keinginan', 'menantikan', 'tak', 'tiap', 'siap', 'paling', 'diibaratkannya', 'justru', 'semakin', 'toh', 'sebesar', 'mengenai', 'tanyanya', 'dipergunakan', 'berkehendak', 'dimulai', 'kesampaian', 'seluruh', 'itukah', 'tertentu', 'segera', 'kelihatan', 'sama', 'tunjuk', 'tuturnya', 'jadinya', 'masih', 'meminta', 'sepanjang', 'terlalu', 'berapapun', 'pukul', 'dapat', 'kalian', 'menanyai', 'menginginkan', 'daripada', 'umum', 'belumlah', 'tegas', 'beginilah', 'mempunyai', 'belum', 'kira-kira', 'olehnya', 'biasanya', 'ditambahkan', 'hanya', 'setibanya', 'sendiri', 'sepantasnyalah', 'sesuatu', 'tempat', 'memulai', 'apatah', 'selama-lamanya', 'sela', 'termasuk', 'wah', 'seseorang', 'kan', 'pertanyakan', 'kenapa', 'bulan', 'ditunjukkan', 'memerlukan', 'tetapi', 'yang', 'rasa', 'keseluruhan', 'melakukan', 'ingat-ingat', 'se', 'sementara', 'dibuat', 'waduh', 'mungkin', 'menegaskan', 'apa', 'akhirnya', 'bisakah', 'diberikan', 'jangan', 'menyeluruh', 'sekadarnya', 'seolah', 'ditanyakan', 'walau', 'karenanya', 'wong', 'itulah', 'sayalah', 'sebaliknya', 'masing-masing', 'depan', 'sebaik', 'itu', 'tanyakan', 'terdapat', 'sekadar', 'atau', 'ataupun', 'jelasnya', 'dalam', 'ikut', 'sesuatunya', 'padahal', 'terlebih', 'demikian', 'menanti', 'mengetahui', 'makanya', 'baru', 'selaku', 'mendatang', 'saya', 'cukuplah', 'berkeinginan', 'kamulah', 'tiba-tiba', 'mengatakan', 'adapun', 'kemungkinan', 'sekaligus', 'sekurangnya', 'beginian', 'selalu', 'tersebut', 'benarkah', 'diketahui', 'pula', 'lain', 'seorang', 'lah', 'diberikannya', 'sekali-kali', 'selain', 'demikianlah', 'agaknya', 'mengerjakan', 'dua', 'antara', 'ditanyai', 'dikira', 'begitulah', 'soal', 'tahu', 'menanti-nanti', 'meski', 'jelaslah', 'menuju', 'mendapat', 'inilah', 'semampunya', 'berdatangan', 'setelah', 'berkata', 'setiba', 'berlainan', 'datang', 'masa', 'tutur', 'siapapun', 'teringat', 'ibaratnya', 'namun', 'cukupkah', 'tinggi', 'sesampai', 'sebaiknya', 'memang', 'saatnya', 'sinilah', 'disinilah', 'selama', 'dipertanyakan', 'waktunya', 'pantas', 'ditunjuki', 'sesama', 'dong', 'pak', 'baik', 'didatangkan', 'semaunya', 'awalnya', 'buat', 'para', 'tepat', 'diperlukan', 'terdahulu', 'turut', 'yaitu', 'mengucapkannya', 'seperti', 'kepadanya', 'seolah-olah', 'bersama', 'untuk', 'tandasnya', 'jawabnya', 'diantaranya', 'lanjutnya', 'dan', 'jawaban', 'tiga', 'masing', 'memastikan', 'lama', 'sejumlah', 'memisalkan', 'sampai', 'menjadi', 'disebutkannya', 'sekitarnya', 'artinya', 'sepertinya', 'sepihak', 'dimungkinkan', 'segalanya', 'sedang', 'berawal', 'hingga', 'diperbuat', 'cuma', 'ibu', 'sebegitu', 'beri', 'di', 'bermula', 'luar', 'ditandaskan', 'diibaratkan', 'dikerjakan', 'dikatakan', 'semampu', 'bagaimanakah', 'diucapkannya', 'semata-mata', 'ungkapnya', 'tiba', 'ujar', 'begitupun', 'sesaat', 'sesudahnya', 'mendapatkan', 'akankah', 'hendaknya', 'betul', 'dikarenakan', 'kelihatannya', 'punya', 'dialah', 'kepada', 'bukankah', 'menggunakan', 'tentulah', 'ibarat', 'sempat', 'dulu', 'dituturkannya', 'ujarnya', 'dengan', 'ingin', 'berikan', 'menyiapkan', 'keterlaluan', 'memberikan', 'cukup', 'tampaknya', 'semisalnya', 'lainnya', 'sambil', 'mampukah', 'dia', 'hendak', 'meskipun', 'cara', 'kapan', 'bolehkah', 'sebab', 'diperbuatnya', 'penting', 'menyebutkan', 'adanya', 'nyaris', 'semisal', 'nah', 'jumlahnya', 'diketahuinya', 'sepantasnya', 'sekitar', 'sajalah', 'sekalipun', 'terlihat', 'bilakah', 'kelima', 'persoalan', 'melihatnya', 'kecil', 'dibuatnya', 'bagian', 'dipersoalkan', 'mendatangkan', 'misalkan', 'keduanya', 'disebutkan', 'tambah', 'setinggi', 'melihat', 'tetap', 'serupa', 'kemudian', 'usai', 'harus', 'pernah', 'mana', 'maka', 'sejauh', 'terakhir', 'dekat', 'dipastikan', 'sebenarnya', 'keseluruhannya', 'pasti', 'seharusnya', 'mulailah', 'misalnya', 'tahun', 'demi', 'tampak', 'kebetulan', 'setiap', 'berakhir', 'semasih', 'inikah', 'ucapnya', 'menandaskan', 'terjadinya', 'sendirinya', 'bakal', 'selanjutnya', 'tersebutlah', 'malahan', 'ditujukan', 'memungkinkan', 'memberi', 'mungkinkah', 'mulanya', 'sebagaimana', 'bekerja', 'bertanya-tanya', 'kalaupun', 'melalui', 'mula', 'dilihat', 'usah', 'keadaan', 'dilalui', 'biasa', 'begitukah', 'kedua', 'tanya', 'jadilah', 'kita', 'seingat', 'andalah', 'kini', 'lanjut', 'waktu', 'menambahkan', 'dilakukan', 'maupun', 'dijawab', 'menjelaskan', 'dikatakannya', 'jelas', 'seperlunya', 'terjadilah', 'mendatangi', 'setidak-tidaknya', 'mengatakannya', 'jangankan', 'sebetulnya', 'kira', 'sekiranya', 'khususnya', 'tambahnya', 'sewaktu', 'menjawab', 'macam', 'betulkah', 'benarlah', 'masihkah', 'merupakan', 'sekecil', 'soalnya', 'jelaskan', 'tersampaikan', 'sampaikan', 'amat', 'semata', 'sebuah', 'kala', 'diri', 'belakang', 'kalaulah', 'menghendaki', 'suatu', 'berjumlah', 'agar', 'seringnya', 'sehingga', 'kiranya', 'hal', 'berada', 'anda', 'semua', 'diingat', 'mengingatkan', 'diperkirakan', 'pertanyaan', 'kok', 'digunakan', 'banyak', 'dimaksudkannya', 'membuat', 'setidaknya', 'tapi', 'berlalu', 'disampaikan', 'berturut-turut', 'merekalah', 'serta', 'bawah', 'walaupun', 'tentang', 'sebelum', 'selamanya', 'ungkap', 'saat', 'ke', 'satu', 'berujar', 'secara', 'meyakinkan', 'mengapa', 'berkenaan', 'sering', 'minta', 'inginkah', 'diantara', 'lagi', 'mengibaratkan', 'ini', 'perlukah', 'tengah', 'rasanya', 'mengibaratkannya', 'mengucapkan', 'bakalan', 'akhiri', 'kami', 'tadi', 'ditunjuk', 'memihak', 'mau', 'dipunyai', 'siapa', 'saling', 'tadinya', 'diakhirinya', 'kapankah', 'gunakan', 'memperbuat', 'sedangkan', 'dituturkan', 'akan', 'terjadi', 'dirinya', 'sebagainya', 'ditegaskan', 'umumnya', 'terasa', 'diperlukannya', 'apalagi', 'hendaklah', 'jauh', 'sudahlah', 'semasa', 'oleh', 'padanya', 'terkira', 'pihaknya', 'telah', 'yakin', 'kitalah', 'bila', 'sekali', 'perlunya', 'boleh', 'mempersiapkan', 'ketika', 'pertama', 'diperlihatkan', 'entah', 'berturut', 'kelamaan', 'terus', 'lalu', 'juga', 'antar', 'tentunya', 'hampir', 'balik', 'haruslah', 'pentingnya', 'seterusnya', 'agak', 'pertama-tama', 'mulai', 'sebutlah', 'memperkirakan', 'diberi', 'apabila', 'dari', 'beberapa', 'berupa', 'dimisalkan', 'keluar', 'menyatakan', 'mirip', 'tertuju', 'menuturkan', 'sangatlah', 'memintakan', 'diingatkan', 'sana', 'jumlah', 'dini', 'menunjuki', 'meyakini', 'melainkan', 'seluruhnya', 'bisa', 'pastilah', 'secukupnya', 'semula', 'dimaksud', 'lima', 'pada', 'diungkapkan', 'sampai-sampai', 'begini', 'rata', 'teringat-ingat', 'sejak', 'ditunjukkannya', 'diucapkan', 'terhadapnya', 'amatlah', 'apakah', 'bahwa', 'belakangan', 'misal', 'sebisanya', 'dimaksudkan', 'sendirian', 'berarti', 'ialah', 'lamanya', 'menurut', 'terbanyak', 'sebagian', 'disebut', 'berbagai', 'bagai', 'sesudah', 'seusai', 'dimaksudnya', 'adalah', 'bertanya', 'sebegini', 'terhadap', 'panjang', 'pihak', 'percuma', 'berapa', 'makin', 'setempat', 'segala', 'sekurang-kurangnya', 'menunjuk', 'mampu', 'dahulu', 'sini', 'sedemikian', 'sebelumnya', 'semacam', 'kamilah', 'berakhirlah', 'diminta', 'menunjukkan', 'sebaik-baiknya', 'guna', 'bahwasanya', 'memperlihatkan', 'diinginkan', 'kinilah', 'nyatanya', 'sekarang', 'enggaknya', 'rupanya', 'hari', 'yakni', 'jikalau', 'dimulainya', 'hanyalah', 'sebagai', 'sudah', 'supaya', 'akulah', 'bukannya', 'kata', 'merasa', 'tegasnya', 'diakhiri', 'didapat', 'menunjuknya', 'menyampaikan', 'wahai', 'menaiki', 'ada', 'sama-sama', 'dimulailah', 'kapanpun', 'bersama-sama', 'besar', 'sebut', 'manakala', 'jika', 'sebutnya', 'sedikit', 'jawab', 'begitu', 'harusnya', 'bertutur', 'entahlah', 'asalkan', 'lewat', 'nantinya', 'sangat', 'tidaklah', 'ucap', 'dijelaskannya', 'katanya', 'bagi', 'kalau', 'ingat', 'karena', 'menyangkut', 'disini', 'ibaratkan', 'malah', 'bersiap-siap', 'katakan', 'naik', 'bermaksud', 'dimintai', 'berlangsung'}\n"
          ],
          "name": "stdout"
        }
      ]
    },
    {
      "cell_type": "code",
      "metadata": {
        "id": "XisDJAV85rQe"
      },
      "source": [
        "stop_words.remove('jangan')"
      ],
      "execution_count": null,
      "outputs": []
    },
    {
      "cell_type": "code",
      "metadata": {
        "colab": {
          "base_uri": "https://localhost:8080/"
        },
        "id": "JSI_KBVQakMX",
        "outputId": "90976546-fd5d-4bcd-a020-5e6bb066820d"
      },
      "source": [
        "print(stop_words)"
      ],
      "execution_count": null,
      "outputs": [
        {
          "output_type": "stream",
          "text": [
            "{'ditunjuknya', 'ia', 'caranya', 'berakhirnya', 'bagaimanapun', 'sudahkah', 'tanpa', 'ternyata', 'seketika', 'terutama', 'sedikitnya', 'menanya', 'dijelaskan', 'atas', 'berapalah', 'katakanlah', 'lebih', 'mengakhiri', 'per', 'sebanyak', 'tentu', 'benar', 'beginikah', 'bukanlah', 'seberapa', 'kembali', 'bolehlah', 'semuanya', 'mengira', 'empat', 'setengah', 'perlu', 'berapakah', 'bagaikan', 'nanti', 'inginkan', 'sesegera', 'berikutnya', 'bapak', 'sekalian', 'sesekali', 'akhir', 'kamu', 'menanyakan', 'berkali-kali', 'apaan', 'antaranya', 'bersiap', 'pun', 'kemungkinannya', 'saja', 'siapakah', 'bung', 'awal', 'mengingat', 'mempergunakan', 'mengungkapkan', 'tidakkah', 'ataukah', 'seenaknya', 'bahkan', 'aku', 'asal', 'tandas', 'berikut', 'bagaimana', 'sejenak', 'terdiri', 'jadi', 'sebabnya', 'ditanya', 'keinginan', 'menantikan', 'tak', 'tiap', 'siap', 'paling', 'diibaratkannya', 'justru', 'semakin', 'toh', 'sebesar', 'mengenai', 'tanyanya', 'dipergunakan', 'berkehendak', 'dimulai', 'kesampaian', 'seluruh', 'itukah', 'tertentu', 'segera', 'kelihatan', 'sama', 'tunjuk', 'tuturnya', 'jadinya', 'masih', 'meminta', 'sepanjang', 'terlalu', 'berapapun', 'pukul', 'dapat', 'kalian', 'menanyai', 'menginginkan', 'daripada', 'umum', 'belumlah', 'tegas', 'beginilah', 'mempunyai', 'belum', 'kira-kira', 'olehnya', 'biasanya', 'ditambahkan', 'hanya', 'setibanya', 'sendiri', 'sepantasnyalah', 'sesuatu', 'tempat', 'memulai', 'apatah', 'selama-lamanya', 'sela', 'termasuk', 'wah', 'seseorang', 'kan', 'pertanyakan', 'kenapa', 'bulan', 'ditunjukkan', 'memerlukan', 'tetapi', 'yang', 'rasa', 'keseluruhan', 'melakukan', 'ingat-ingat', 'se', 'sementara', 'dibuat', 'waduh', 'mungkin', 'menegaskan', 'apa', 'akhirnya', 'bisakah', 'diberikan', 'menyeluruh', 'sekadarnya', 'seolah', 'ditanyakan', 'walau', 'karenanya', 'wong', 'itulah', 'sayalah', 'sebaliknya', 'masing-masing', 'depan', 'sebaik', 'itu', 'tanyakan', 'terdapat', 'sekadar', 'atau', 'ataupun', 'jelasnya', 'dalam', 'ikut', 'sesuatunya', 'padahal', 'terlebih', 'demikian', 'menanti', 'mengetahui', 'makanya', 'baru', 'selaku', 'mendatang', 'saya', 'cukuplah', 'berkeinginan', 'kamulah', 'tiba-tiba', 'mengatakan', 'adapun', 'kemungkinan', 'sekaligus', 'sekurangnya', 'beginian', 'selalu', 'tersebut', 'benarkah', 'diketahui', 'pula', 'lain', 'seorang', 'lah', 'diberikannya', 'sekali-kali', 'selain', 'demikianlah', 'agaknya', 'mengerjakan', 'dua', 'antara', 'ditanyai', 'dikira', 'begitulah', 'soal', 'tahu', 'menanti-nanti', 'meski', 'jelaslah', 'menuju', 'mendapat', 'inilah', 'semampunya', 'berdatangan', 'setelah', 'berkata', 'setiba', 'berlainan', 'datang', 'masa', 'tutur', 'siapapun', 'teringat', 'ibaratnya', 'namun', 'cukupkah', 'tinggi', 'sesampai', 'sebaiknya', 'memang', 'saatnya', 'sinilah', 'disinilah', 'selama', 'dipertanyakan', 'waktunya', 'pantas', 'ditunjuki', 'sesama', 'dong', 'pak', 'baik', 'didatangkan', 'semaunya', 'awalnya', 'buat', 'para', 'tepat', 'diperlukan', 'terdahulu', 'turut', 'yaitu', 'mengucapkannya', 'seperti', 'kepadanya', 'seolah-olah', 'bersama', 'untuk', 'tandasnya', 'jawabnya', 'diantaranya', 'lanjutnya', 'dan', 'jawaban', 'tiga', 'masing', 'memastikan', 'lama', 'sejumlah', 'memisalkan', 'sampai', 'menjadi', 'disebutkannya', 'sekitarnya', 'artinya', 'sepertinya', 'sepihak', 'dimungkinkan', 'segalanya', 'sedang', 'berawal', 'hingga', 'diperbuat', 'cuma', 'ibu', 'sebegitu', 'beri', 'di', 'bermula', 'luar', 'ditandaskan', 'diibaratkan', 'dikerjakan', 'dikatakan', 'semampu', 'bagaimanakah', 'diucapkannya', 'semata-mata', 'ungkapnya', 'tiba', 'ujar', 'begitupun', 'sesaat', 'sesudahnya', 'mendapatkan', 'akankah', 'hendaknya', 'betul', 'dikarenakan', 'kelihatannya', 'punya', 'dialah', 'kepada', 'bukankah', 'menggunakan', 'tentulah', 'ibarat', 'sempat', 'dulu', 'dituturkannya', 'ujarnya', 'dengan', 'ingin', 'berikan', 'menyiapkan', 'keterlaluan', 'memberikan', 'cukup', 'tampaknya', 'semisalnya', 'lainnya', 'sambil', 'mampukah', 'dia', 'hendak', 'meskipun', 'cara', 'kapan', 'bolehkah', 'sebab', 'diperbuatnya', 'penting', 'menyebutkan', 'adanya', 'nyaris', 'semisal', 'nah', 'jumlahnya', 'diketahuinya', 'sepantasnya', 'sekitar', 'sajalah', 'sekalipun', 'terlihat', 'bilakah', 'kelima', 'persoalan', 'melihatnya', 'kecil', 'dibuatnya', 'bagian', 'dipersoalkan', 'mendatangkan', 'misalkan', 'keduanya', 'disebutkan', 'tambah', 'setinggi', 'melihat', 'tetap', 'serupa', 'kemudian', 'usai', 'harus', 'pernah', 'mana', 'maka', 'sejauh', 'terakhir', 'dekat', 'dipastikan', 'sebenarnya', 'keseluruhannya', 'pasti', 'seharusnya', 'mulailah', 'misalnya', 'tahun', 'demi', 'tampak', 'kebetulan', 'setiap', 'berakhir', 'semasih', 'inikah', 'ucapnya', 'menandaskan', 'terjadinya', 'sendirinya', 'bakal', 'selanjutnya', 'tersebutlah', 'malahan', 'ditujukan', 'memungkinkan', 'memberi', 'mungkinkah', 'mulanya', 'sebagaimana', 'bekerja', 'bertanya-tanya', 'kalaupun', 'melalui', 'mula', 'dilihat', 'usah', 'keadaan', 'dilalui', 'biasa', 'begitukah', 'kedua', 'tanya', 'jadilah', 'kita', 'seingat', 'andalah', 'kini', 'lanjut', 'waktu', 'menambahkan', 'dilakukan', 'maupun', 'dijawab', 'menjelaskan', 'dikatakannya', 'jelas', 'seperlunya', 'terjadilah', 'mendatangi', 'setidak-tidaknya', 'mengatakannya', 'jangankan', 'sebetulnya', 'kira', 'sekiranya', 'khususnya', 'tambahnya', 'sewaktu', 'menjawab', 'macam', 'betulkah', 'benarlah', 'masihkah', 'merupakan', 'sekecil', 'soalnya', 'jelaskan', 'tersampaikan', 'sampaikan', 'amat', 'semata', 'sebuah', 'kala', 'diri', 'belakang', 'kalaulah', 'menghendaki', 'suatu', 'berjumlah', 'agar', 'seringnya', 'sehingga', 'kiranya', 'hal', 'berada', 'anda', 'semua', 'diingat', 'mengingatkan', 'diperkirakan', 'pertanyaan', 'kok', 'digunakan', 'banyak', 'dimaksudkannya', 'membuat', 'setidaknya', 'tapi', 'berlalu', 'disampaikan', 'berturut-turut', 'merekalah', 'serta', 'bawah', 'walaupun', 'tentang', 'sebelum', 'selamanya', 'ungkap', 'saat', 'ke', 'satu', 'berujar', 'secara', 'meyakinkan', 'mengapa', 'berkenaan', 'sering', 'minta', 'inginkah', 'diantara', 'lagi', 'mengibaratkan', 'ini', 'perlukah', 'tengah', 'rasanya', 'mengibaratkannya', 'mengucapkan', 'bakalan', 'akhiri', 'kami', 'tadi', 'ditunjuk', 'memihak', 'mau', 'dipunyai', 'siapa', 'saling', 'tadinya', 'diakhirinya', 'kapankah', 'gunakan', 'memperbuat', 'sedangkan', 'dituturkan', 'akan', 'terjadi', 'dirinya', 'sebagainya', 'ditegaskan', 'umumnya', 'terasa', 'diperlukannya', 'apalagi', 'hendaklah', 'jauh', 'sudahlah', 'semasa', 'oleh', 'padanya', 'terkira', 'pihaknya', 'telah', 'yakin', 'kitalah', 'bila', 'sekali', 'perlunya', 'boleh', 'mempersiapkan', 'ketika', 'pertama', 'diperlihatkan', 'entah', 'berturut', 'kelamaan', 'terus', 'lalu', 'juga', 'antar', 'tentunya', 'hampir', 'balik', 'haruslah', 'pentingnya', 'seterusnya', 'agak', 'pertama-tama', 'mulai', 'sebutlah', 'memperkirakan', 'diberi', 'apabila', 'dari', 'beberapa', 'berupa', 'dimisalkan', 'keluar', 'menyatakan', 'mirip', 'tertuju', 'menuturkan', 'sangatlah', 'memintakan', 'diingatkan', 'sana', 'jumlah', 'dini', 'menunjuki', 'meyakini', 'melainkan', 'seluruhnya', 'bisa', 'pastilah', 'secukupnya', 'semula', 'dimaksud', 'lima', 'pada', 'diungkapkan', 'sampai-sampai', 'begini', 'rata', 'teringat-ingat', 'sejak', 'ditunjukkannya', 'diucapkan', 'terhadapnya', 'amatlah', 'apakah', 'bahwa', 'belakangan', 'misal', 'sebisanya', 'dimaksudkan', 'sendirian', 'berarti', 'ialah', 'lamanya', 'menurut', 'terbanyak', 'sebagian', 'disebut', 'berbagai', 'bagai', 'sesudah', 'seusai', 'dimaksudnya', 'adalah', 'bertanya', 'sebegini', 'terhadap', 'panjang', 'pihak', 'percuma', 'berapa', 'makin', 'setempat', 'segala', 'sekurang-kurangnya', 'menunjuk', 'mampu', 'dahulu', 'sini', 'sedemikian', 'sebelumnya', 'semacam', 'kamilah', 'berakhirlah', 'diminta', 'menunjukkan', 'sebaik-baiknya', 'guna', 'bahwasanya', 'memperlihatkan', 'diinginkan', 'kinilah', 'nyatanya', 'sekarang', 'enggaknya', 'rupanya', 'hari', 'yakni', 'jikalau', 'dimulainya', 'hanyalah', 'sebagai', 'sudah', 'supaya', 'akulah', 'bukannya', 'kata', 'merasa', 'tegasnya', 'diakhiri', 'didapat', 'menunjuknya', 'menyampaikan', 'wahai', 'menaiki', 'ada', 'sama-sama', 'dimulailah', 'kapanpun', 'bersama-sama', 'besar', 'sebut', 'manakala', 'jika', 'sebutnya', 'sedikit', 'jawab', 'begitu', 'harusnya', 'bertutur', 'entahlah', 'asalkan', 'lewat', 'nantinya', 'sangat', 'tidaklah', 'ucap', 'dijelaskannya', 'katanya', 'bagi', 'kalau', 'ingat', 'karena', 'menyangkut', 'disini', 'ibaratkan', 'malah', 'bersiap-siap', 'katakan', 'naik', 'bermaksud', 'dimintai', 'berlangsung'}\n"
          ],
          "name": "stdout"
        }
      ]
    },
    {
      "cell_type": "code",
      "metadata": {
        "trusted": true,
        "id": "s0pdPy2pNjlr"
      },
      "source": [
        "def preprocess(text, stem=False):\n",
        "    # Remove link,user and special characters\n",
        "    text = re.sub(TEXT_CLEANING_RE, ' ', str(text).lower()).strip()\n",
        "    tokens = []\n",
        "    for token in text.split():\n",
        "        if token not in stop_words:\n",
        "            if stem:\n",
        "                tokens.append(stemmers.stem(token))\n",
        "            else:\n",
        "                tokens.append(token)\n",
        "    return \" \".join(tokens)"
      ],
      "execution_count": null,
      "outputs": []
    },
    {
      "cell_type": "code",
      "metadata": {
        "trusted": true,
        "id": "h-1i43PgNjlr"
      },
      "source": [
        "df.Tweet = df.Tweet.apply(lambda x: preprocess(x))"
      ],
      "execution_count": null,
      "outputs": []
    },
    {
      "cell_type": "code",
      "metadata": {
        "trusted": true,
        "colab": {
          "base_uri": "https://localhost:8080/",
          "height": 204
        },
        "id": "VgOzpJJKNjls",
        "outputId": "0eda4a1c-ba2c-4f1b-c1cd-66f44ec7de95"
      },
      "source": [
        "df.head()"
      ],
      "execution_count": null,
      "outputs": [
        {
          "output_type": "execute_result",
          "data": {
            "text/html": [
              "<div>\n",
              "<style scoped>\n",
              "    .dataframe tbody tr th:only-of-type {\n",
              "        vertical-align: middle;\n",
              "    }\n",
              "\n",
              "    .dataframe tbody tr th {\n",
              "        vertical-align: top;\n",
              "    }\n",
              "\n",
              "    .dataframe thead th {\n",
              "        text-align: right;\n",
              "    }\n",
              "</style>\n",
              "<table border=\"1\" class=\"dataframe\">\n",
              "  <thead>\n",
              "    <tr style=\"text-align: right;\">\n",
              "      <th></th>\n",
              "      <th>Tweet</th>\n",
              "      <th>negative</th>\n",
              "    </tr>\n",
              "  </thead>\n",
              "  <tbody>\n",
              "    <tr>\n",
              "      <th>0</th>\n",
              "      <td>disaat cowok berusaha melacak perhatian gue lo...</td>\n",
              "      <td>NEGATIVE</td>\n",
              "    </tr>\n",
              "    <tr>\n",
              "      <th>1</th>\n",
              "      <td>rt user user telat ngasih tau elu edan sarap g...</td>\n",
              "      <td>NEGATIVE</td>\n",
              "    </tr>\n",
              "    <tr>\n",
              "      <th>2</th>\n",
              "      <td>41 kadang berfikir percaya tuhan jatuh berkali...</td>\n",
              "      <td>NEUTRAL</td>\n",
              "    </tr>\n",
              "    <tr>\n",
              "      <th>3</th>\n",
              "      <td>user user n nku tau matamu sipit diliat</td>\n",
              "      <td>NEUTRAL</td>\n",
              "    </tr>\n",
              "    <tr>\n",
              "      <th>4</th>\n",
              "      <td>user user kaum cebong kapir udah keliatan dong...</td>\n",
              "      <td>NEGATIVE</td>\n",
              "    </tr>\n",
              "  </tbody>\n",
              "</table>\n",
              "</div>"
            ],
            "text/plain": [
              "                                               Tweet  negative\n",
              "0  disaat cowok berusaha melacak perhatian gue lo...  NEGATIVE\n",
              "1  rt user user telat ngasih tau elu edan sarap g...  NEGATIVE\n",
              "2  41 kadang berfikir percaya tuhan jatuh berkali...   NEUTRAL\n",
              "3            user user n nku tau matamu sipit diliat   NEUTRAL\n",
              "4  user user kaum cebong kapir udah keliatan dong...  NEGATIVE"
            ]
          },
          "metadata": {
            "tags": []
          },
          "execution_count": 25
        }
      ]
    },
    {
      "cell_type": "markdown",
      "metadata": {
        "id": "yULr2moXFIEO"
      },
      "source": [
        "As we can see, stopwords, links, special symbols have been removed. This helps our process to tokenize"
      ]
    },
    {
      "cell_type": "code",
      "metadata": {
        "trusted": true,
        "colab": {
          "base_uri": "https://localhost:8080/"
        },
        "id": "DXNFNf4uNjls",
        "outputId": "315c00f3-9b03-4cf5-cc71-c90e678d2bd8"
      },
      "source": [
        "df_train, df_test = train_test_split(df, test_size=0.2, random_state=42)\n",
        "print(\"TRAIN size:\", len(df_train))\n",
        "print(\"TEST size:\", len(df_test))"
      ],
      "execution_count": null,
      "outputs": [
        {
          "output_type": "stream",
          "text": [
            "TRAIN size: 10535\n",
            "TEST size: 2634\n"
          ],
          "name": "stdout"
        }
      ]
    },
    {
      "cell_type": "markdown",
      "metadata": {
        "id": "pXpdiPBKNjls"
      },
      "source": [
        "# WORD2VEC"
      ]
    },
    {
      "cell_type": "code",
      "metadata": {
        "id": "dgpxXQLcSOYn"
      },
      "source": [
        "documents = [_text.split() for _text in df_train.Tweet] "
      ],
      "execution_count": null,
      "outputs": []
    },
    {
      "cell_type": "code",
      "metadata": {
        "trusted": true,
        "id": "X6eVftLUNjls"
      },
      "source": [
        "w2v_model = gensim.models.word2vec.Word2Vec(size=W2V_SIZE, \n",
        "                                            window=W2V_WINDOW, \n",
        "                                            min_count=5, \n",
        "                                            workers=8)\n",
        "#id_model = gensim.models.Word2Vec.load(path)"
      ],
      "execution_count": null,
      "outputs": []
    },
    {
      "cell_type": "code",
      "metadata": {
        "id": "2prNXkRoXai1",
        "colab": {
          "base_uri": "https://localhost:8080/",
          "height": 204
        },
        "outputId": "58ee016f-5f32-4b7a-e56d-88183dd3f5a9"
      },
      "source": [
        "df_train.head()"
      ],
      "execution_count": null,
      "outputs": [
        {
          "output_type": "execute_result",
          "data": {
            "text/html": [
              "<div>\n",
              "<style scoped>\n",
              "    .dataframe tbody tr th:only-of-type {\n",
              "        vertical-align: middle;\n",
              "    }\n",
              "\n",
              "    .dataframe tbody tr th {\n",
              "        vertical-align: top;\n",
              "    }\n",
              "\n",
              "    .dataframe thead th {\n",
              "        text-align: right;\n",
              "    }\n",
              "</style>\n",
              "<table border=\"1\" class=\"dataframe\">\n",
              "  <thead>\n",
              "    <tr style=\"text-align: right;\">\n",
              "      <th></th>\n",
              "      <th>Tweet</th>\n",
              "      <th>negative</th>\n",
              "    </tr>\n",
              "  </thead>\n",
              "  <tbody>\n",
              "    <tr>\n",
              "      <th>12017</th>\n",
              "      <td>xf0 x9f x93 x8c himmler pimpinan devisi ss bes...</td>\n",
              "      <td>NEUTRAL</td>\n",
              "    </tr>\n",
              "    <tr>\n",
              "      <th>3315</th>\n",
              "      <td>user iya anjir dah</td>\n",
              "      <td>NEGATIVE</td>\n",
              "    </tr>\n",
              "    <tr>\n",
              "      <th>6454</th>\n",
              "      <td>user adatuh temen sekelas sma cakep imut sombo...</td>\n",
              "      <td>NEUTRAL</td>\n",
              "    </tr>\n",
              "    <tr>\n",
              "      <th>12776</th>\n",
              "      <td>user user user user mongomong ospek ospek disu...</td>\n",
              "      <td>NEUTRAL</td>\n",
              "    </tr>\n",
              "    <tr>\n",
              "      <th>9055</th>\n",
              "      <td>bajingan line</td>\n",
              "      <td>NEGATIVE</td>\n",
              "    </tr>\n",
              "  </tbody>\n",
              "</table>\n",
              "</div>"
            ],
            "text/plain": [
              "                                                   Tweet  negative\n",
              "12017  xf0 x9f x93 x8c himmler pimpinan devisi ss bes...   NEUTRAL\n",
              "3315                                  user iya anjir dah  NEGATIVE\n",
              "6454   user adatuh temen sekelas sma cakep imut sombo...   NEUTRAL\n",
              "12776  user user user user mongomong ospek ospek disu...   NEUTRAL\n",
              "9055                                       bajingan line  NEGATIVE"
            ]
          },
          "metadata": {
            "tags": []
          },
          "execution_count": 29
        }
      ]
    },
    {
      "cell_type": "code",
      "metadata": {
        "colab": {
          "base_uri": "https://localhost:8080/"
        },
        "id": "kVh2KiLy8z6W",
        "outputId": "e8ab4bf4-3e8e-402f-801b-337514a0a2ca"
      },
      "source": [
        "w2v_model.build_vocab(documents)"
      ],
      "execution_count": null,
      "outputs": [
        {
          "output_type": "stream",
          "text": [
            "2021-02-18 02:23:35,538 : INFO : collecting all words and their counts\n",
            "2021-02-18 02:23:35,539 : INFO : PROGRESS: at sentence #0, processed 0 words, keeping 0 word types\n",
            "2021-02-18 02:23:35,577 : INFO : PROGRESS: at sentence #10000, processed 141484 words, keeping 23822 word types\n",
            "2021-02-18 02:23:35,581 : INFO : collected 24554 word types from a corpus of 148973 raw words and 10535 sentences\n",
            "2021-02-18 02:23:35,582 : INFO : Loading a fresh vocabulary\n",
            "2021-02-18 02:23:35,596 : INFO : effective_min_count=5 retains 4039 unique words (16% of original 24554, drops 20515)\n",
            "2021-02-18 02:23:35,597 : INFO : effective_min_count=5 leaves 118702 word corpus (79% of original 148973, drops 30271)\n",
            "2021-02-18 02:23:35,612 : INFO : deleting the raw counts dictionary of 24554 items\n",
            "2021-02-18 02:23:35,613 : INFO : sample=0.001 downsamples 36 most-common words\n",
            "2021-02-18 02:23:35,614 : INFO : downsampling leaves estimated 96939 word corpus (81.7% of prior 118702)\n",
            "2021-02-18 02:23:35,627 : INFO : estimated required memory for 4039 words and 300 dimensions: 11713100 bytes\n",
            "2021-02-18 02:23:35,627 : INFO : resetting layer weights\n"
          ],
          "name": "stderr"
        }
      ]
    },
    {
      "cell_type": "code",
      "metadata": {
        "id": "1qZkI83vfcXU"
      },
      "source": [
        "# words = id_model.wv.vocab.keys()\n",
        "# vocab_size = len(words)\n",
        "# print(\"Vocab size\", vocab_size)"
      ],
      "execution_count": null,
      "outputs": []
    },
    {
      "cell_type": "code",
      "metadata": {
        "colab": {
          "base_uri": "https://localhost:8080/"
        },
        "id": "mKPeTXlF9C2V",
        "outputId": "6dbf36a0-19fe-4158-d7f6-105ec6a1b865"
      },
      "source": [
        "words = w2v_model.wv.vocab.keys()\n",
        "vocab_size = len(words)\n",
        "print(\"Vocab size\", vocab_size)"
      ],
      "execution_count": null,
      "outputs": [
        {
          "output_type": "stream",
          "text": [
            "Vocab size 4039\n"
          ],
          "name": "stdout"
        }
      ]
    },
    {
      "cell_type": "code",
      "metadata": {
        "colab": {
          "base_uri": "https://localhost:8080/"
        },
        "id": "1cEUqZzW9Plz",
        "outputId": "f1823214-f0ce-4350-938b-3b33f567837d"
      },
      "source": [
        "w2v_model.train(documents, total_examples=len(documents), epochs=W2V_EPOCH)"
      ],
      "execution_count": null,
      "outputs": [
        {
          "output_type": "stream",
          "text": [
            "2021-02-18 02:23:36,434 : INFO : training model with 8 workers on 4039 vocabulary and 300 features, using sg=0 hs=0 sample=0.001 negative=5 window=7\n",
            "2021-02-18 02:23:36,572 : INFO : worker thread finished; awaiting finish of 7 more threads\n",
            "2021-02-18 02:23:36,618 : INFO : worker thread finished; awaiting finish of 6 more threads\n",
            "2021-02-18 02:23:36,647 : INFO : worker thread finished; awaiting finish of 5 more threads\n",
            "2021-02-18 02:23:36,656 : INFO : worker thread finished; awaiting finish of 4 more threads\n",
            "2021-02-18 02:23:36,659 : INFO : worker thread finished; awaiting finish of 3 more threads\n",
            "2021-02-18 02:23:36,660 : INFO : worker thread finished; awaiting finish of 2 more threads\n",
            "2021-02-18 02:23:36,662 : INFO : worker thread finished; awaiting finish of 1 more threads\n",
            "2021-02-18 02:23:36,670 : INFO : worker thread finished; awaiting finish of 0 more threads\n",
            "2021-02-18 02:23:36,671 : INFO : EPOCH - 1 : training on 148973 raw words (96929 effective words) took 0.2s, 467052 effective words/s\n",
            "2021-02-18 02:23:36,808 : INFO : worker thread finished; awaiting finish of 7 more threads\n",
            "2021-02-18 02:23:36,828 : INFO : worker thread finished; awaiting finish of 6 more threads\n",
            "2021-02-18 02:23:36,862 : INFO : worker thread finished; awaiting finish of 5 more threads\n",
            "2021-02-18 02:23:36,863 : INFO : worker thread finished; awaiting finish of 4 more threads\n",
            "2021-02-18 02:23:36,865 : INFO : worker thread finished; awaiting finish of 3 more threads\n",
            "2021-02-18 02:23:36,883 : INFO : worker thread finished; awaiting finish of 2 more threads\n",
            "2021-02-18 02:23:36,888 : INFO : worker thread finished; awaiting finish of 1 more threads\n",
            "2021-02-18 02:23:36,892 : INFO : worker thread finished; awaiting finish of 0 more threads\n",
            "2021-02-18 02:23:36,892 : INFO : EPOCH - 2 : training on 148973 raw words (96854 effective words) took 0.2s, 458828 effective words/s\n",
            "2021-02-18 02:23:37,072 : INFO : worker thread finished; awaiting finish of 7 more threads\n",
            "2021-02-18 02:23:37,076 : INFO : worker thread finished; awaiting finish of 6 more threads\n",
            "2021-02-18 02:23:37,078 : INFO : worker thread finished; awaiting finish of 5 more threads\n",
            "2021-02-18 02:23:37,080 : INFO : worker thread finished; awaiting finish of 4 more threads\n",
            "2021-02-18 02:23:37,087 : INFO : worker thread finished; awaiting finish of 3 more threads\n",
            "2021-02-18 02:23:37,090 : INFO : worker thread finished; awaiting finish of 2 more threads\n",
            "2021-02-18 02:23:37,093 : INFO : worker thread finished; awaiting finish of 1 more threads\n",
            "2021-02-18 02:23:37,110 : INFO : worker thread finished; awaiting finish of 0 more threads\n",
            "2021-02-18 02:23:37,111 : INFO : EPOCH - 3 : training on 148973 raw words (96983 effective words) took 0.2s, 465452 effective words/s\n",
            "2021-02-18 02:23:37,250 : INFO : worker thread finished; awaiting finish of 7 more threads\n",
            "2021-02-18 02:23:37,278 : INFO : worker thread finished; awaiting finish of 6 more threads\n",
            "2021-02-18 02:23:37,282 : INFO : worker thread finished; awaiting finish of 5 more threads\n",
            "2021-02-18 02:23:37,298 : INFO : worker thread finished; awaiting finish of 4 more threads\n",
            "2021-02-18 02:23:37,323 : INFO : worker thread finished; awaiting finish of 3 more threads\n",
            "2021-02-18 02:23:37,324 : INFO : worker thread finished; awaiting finish of 2 more threads\n",
            "2021-02-18 02:23:37,329 : INFO : worker thread finished; awaiting finish of 1 more threads\n",
            "2021-02-18 02:23:37,332 : INFO : worker thread finished; awaiting finish of 0 more threads\n",
            "2021-02-18 02:23:37,332 : INFO : EPOCH - 4 : training on 148973 raw words (97048 effective words) took 0.2s, 457817 effective words/s\n",
            "2021-02-18 02:23:37,486 : INFO : worker thread finished; awaiting finish of 7 more threads\n",
            "2021-02-18 02:23:37,497 : INFO : worker thread finished; awaiting finish of 6 more threads\n",
            "2021-02-18 02:23:37,502 : INFO : worker thread finished; awaiting finish of 5 more threads\n",
            "2021-02-18 02:23:37,522 : INFO : worker thread finished; awaiting finish of 4 more threads\n",
            "2021-02-18 02:23:37,527 : INFO : worker thread finished; awaiting finish of 3 more threads\n",
            "2021-02-18 02:23:37,536 : INFO : worker thread finished; awaiting finish of 2 more threads\n",
            "2021-02-18 02:23:37,547 : INFO : worker thread finished; awaiting finish of 1 more threads\n",
            "2021-02-18 02:23:37,554 : INFO : worker thread finished; awaiting finish of 0 more threads\n",
            "2021-02-18 02:23:37,555 : INFO : EPOCH - 5 : training on 148973 raw words (96960 effective words) took 0.2s, 459920 effective words/s\n",
            "2021-02-18 02:23:37,681 : INFO : worker thread finished; awaiting finish of 7 more threads\n",
            "2021-02-18 02:23:37,698 : INFO : worker thread finished; awaiting finish of 6 more threads\n",
            "2021-02-18 02:23:37,746 : INFO : worker thread finished; awaiting finish of 5 more threads\n",
            "2021-02-18 02:23:37,750 : INFO : worker thread finished; awaiting finish of 4 more threads\n",
            "2021-02-18 02:23:37,753 : INFO : worker thread finished; awaiting finish of 3 more threads\n",
            "2021-02-18 02:23:37,761 : INFO : worker thread finished; awaiting finish of 2 more threads\n",
            "2021-02-18 02:23:37,766 : INFO : worker thread finished; awaiting finish of 1 more threads\n",
            "2021-02-18 02:23:37,767 : INFO : worker thread finished; awaiting finish of 0 more threads\n",
            "2021-02-18 02:23:37,768 : INFO : EPOCH - 6 : training on 148973 raw words (96975 effective words) took 0.2s, 476952 effective words/s\n",
            "2021-02-18 02:23:37,915 : INFO : worker thread finished; awaiting finish of 7 more threads\n",
            "2021-02-18 02:23:37,955 : INFO : worker thread finished; awaiting finish of 6 more threads\n",
            "2021-02-18 02:23:37,964 : INFO : worker thread finished; awaiting finish of 5 more threads\n",
            "2021-02-18 02:23:37,965 : INFO : worker thread finished; awaiting finish of 4 more threads\n",
            "2021-02-18 02:23:37,967 : INFO : worker thread finished; awaiting finish of 3 more threads\n",
            "2021-02-18 02:23:37,979 : INFO : worker thread finished; awaiting finish of 2 more threads\n",
            "2021-02-18 02:23:37,986 : INFO : worker thread finished; awaiting finish of 1 more threads\n",
            "2021-02-18 02:23:37,987 : INFO : worker thread finished; awaiting finish of 0 more threads\n",
            "2021-02-18 02:23:37,988 : INFO : EPOCH - 7 : training on 148973 raw words (96957 effective words) took 0.2s, 463588 effective words/s\n",
            "2021-02-18 02:23:38,149 : INFO : worker thread finished; awaiting finish of 7 more threads\n",
            "2021-02-18 02:23:38,159 : INFO : worker thread finished; awaiting finish of 6 more threads\n",
            "2021-02-18 02:23:38,173 : INFO : worker thread finished; awaiting finish of 5 more threads\n",
            "2021-02-18 02:23:38,181 : INFO : worker thread finished; awaiting finish of 4 more threads\n",
            "2021-02-18 02:23:38,192 : INFO : worker thread finished; awaiting finish of 3 more threads\n",
            "2021-02-18 02:23:38,204 : INFO : worker thread finished; awaiting finish of 2 more threads\n",
            "2021-02-18 02:23:38,206 : INFO : worker thread finished; awaiting finish of 1 more threads\n",
            "2021-02-18 02:23:38,214 : INFO : worker thread finished; awaiting finish of 0 more threads\n",
            "2021-02-18 02:23:38,215 : INFO : EPOCH - 8 : training on 148973 raw words (96891 effective words) took 0.2s, 448107 effective words/s\n",
            "2021-02-18 02:23:38,361 : INFO : worker thread finished; awaiting finish of 7 more threads\n",
            "2021-02-18 02:23:38,363 : INFO : worker thread finished; awaiting finish of 6 more threads\n",
            "2021-02-18 02:23:38,392 : INFO : worker thread finished; awaiting finish of 5 more threads\n",
            "2021-02-18 02:23:38,403 : INFO : worker thread finished; awaiting finish of 4 more threads\n",
            "2021-02-18 02:23:38,406 : INFO : worker thread finished; awaiting finish of 3 more threads\n",
            "2021-02-18 02:23:38,415 : INFO : worker thread finished; awaiting finish of 2 more threads\n",
            "2021-02-18 02:23:38,421 : INFO : worker thread finished; awaiting finish of 1 more threads\n",
            "2021-02-18 02:23:38,424 : INFO : worker thread finished; awaiting finish of 0 more threads\n",
            "2021-02-18 02:23:38,426 : INFO : EPOCH - 9 : training on 148973 raw words (97011 effective words) took 0.2s, 482929 effective words/s\n",
            "2021-02-18 02:23:38,561 : INFO : worker thread finished; awaiting finish of 7 more threads\n",
            "2021-02-18 02:23:38,577 : INFO : worker thread finished; awaiting finish of 6 more threads\n",
            "2021-02-18 02:23:38,586 : INFO : worker thread finished; awaiting finish of 5 more threads\n",
            "2021-02-18 02:23:38,617 : INFO : worker thread finished; awaiting finish of 4 more threads\n",
            "2021-02-18 02:23:38,621 : INFO : worker thread finished; awaiting finish of 3 more threads\n",
            "2021-02-18 02:23:38,627 : INFO : worker thread finished; awaiting finish of 2 more threads\n",
            "2021-02-18 02:23:38,638 : INFO : worker thread finished; awaiting finish of 1 more threads\n",
            "2021-02-18 02:23:38,639 : INFO : worker thread finished; awaiting finish of 0 more threads\n",
            "2021-02-18 02:23:38,640 : INFO : EPOCH - 10 : training on 148973 raw words (96913 effective words) took 0.2s, 486357 effective words/s\n",
            "2021-02-18 02:23:38,781 : INFO : worker thread finished; awaiting finish of 7 more threads\n",
            "2021-02-18 02:23:38,788 : INFO : worker thread finished; awaiting finish of 6 more threads\n",
            "2021-02-18 02:23:38,847 : INFO : worker thread finished; awaiting finish of 5 more threads\n",
            "2021-02-18 02:23:38,849 : INFO : worker thread finished; awaiting finish of 4 more threads\n",
            "2021-02-18 02:23:38,853 : INFO : worker thread finished; awaiting finish of 3 more threads\n",
            "2021-02-18 02:23:38,862 : INFO : worker thread finished; awaiting finish of 2 more threads\n",
            "2021-02-18 02:23:38,862 : INFO : worker thread finished; awaiting finish of 1 more threads\n",
            "2021-02-18 02:23:38,865 : INFO : worker thread finished; awaiting finish of 0 more threads\n",
            "2021-02-18 02:23:38,867 : INFO : EPOCH - 11 : training on 148973 raw words (96918 effective words) took 0.2s, 447916 effective words/s\n",
            "2021-02-18 02:23:39,024 : INFO : worker thread finished; awaiting finish of 7 more threads\n",
            "2021-02-18 02:23:39,036 : INFO : worker thread finished; awaiting finish of 6 more threads\n",
            "2021-02-18 02:23:39,065 : INFO : worker thread finished; awaiting finish of 5 more threads\n",
            "2021-02-18 02:23:39,080 : INFO : worker thread finished; awaiting finish of 4 more threads\n",
            "2021-02-18 02:23:39,087 : INFO : worker thread finished; awaiting finish of 3 more threads\n",
            "2021-02-18 02:23:39,090 : INFO : worker thread finished; awaiting finish of 2 more threads\n",
            "2021-02-18 02:23:39,091 : INFO : worker thread finished; awaiting finish of 1 more threads\n",
            "2021-02-18 02:23:39,092 : INFO : worker thread finished; awaiting finish of 0 more threads\n",
            "2021-02-18 02:23:39,093 : INFO : EPOCH - 12 : training on 148973 raw words (96956 effective words) took 0.2s, 453348 effective words/s\n",
            "2021-02-18 02:23:39,232 : INFO : worker thread finished; awaiting finish of 7 more threads\n",
            "2021-02-18 02:23:39,255 : INFO : worker thread finished; awaiting finish of 6 more threads\n",
            "2021-02-18 02:23:39,279 : INFO : worker thread finished; awaiting finish of 5 more threads\n",
            "2021-02-18 02:23:39,281 : INFO : worker thread finished; awaiting finish of 4 more threads\n",
            "2021-02-18 02:23:39,307 : INFO : worker thread finished; awaiting finish of 3 more threads\n",
            "2021-02-18 02:23:39,309 : INFO : worker thread finished; awaiting finish of 2 more threads\n",
            "2021-02-18 02:23:39,313 : INFO : worker thread finished; awaiting finish of 1 more threads\n",
            "2021-02-18 02:23:39,315 : INFO : worker thread finished; awaiting finish of 0 more threads\n",
            "2021-02-18 02:23:39,316 : INFO : EPOCH - 13 : training on 148973 raw words (96913 effective words) took 0.2s, 464400 effective words/s\n",
            "2021-02-18 02:23:39,455 : INFO : worker thread finished; awaiting finish of 7 more threads\n",
            "2021-02-18 02:23:39,469 : INFO : worker thread finished; awaiting finish of 6 more threads\n",
            "2021-02-18 02:23:39,522 : INFO : worker thread finished; awaiting finish of 5 more threads\n",
            "2021-02-18 02:23:39,525 : INFO : worker thread finished; awaiting finish of 4 more threads\n",
            "2021-02-18 02:23:39,527 : INFO : worker thread finished; awaiting finish of 3 more threads\n",
            "2021-02-18 02:23:39,530 : INFO : worker thread finished; awaiting finish of 2 more threads\n",
            "2021-02-18 02:23:39,533 : INFO : worker thread finished; awaiting finish of 1 more threads\n",
            "2021-02-18 02:23:39,538 : INFO : worker thread finished; awaiting finish of 0 more threads\n",
            "2021-02-18 02:23:39,539 : INFO : EPOCH - 14 : training on 148973 raw words (97000 effective words) took 0.2s, 480236 effective words/s\n",
            "2021-02-18 02:23:39,685 : INFO : worker thread finished; awaiting finish of 7 more threads\n",
            "2021-02-18 02:23:39,688 : INFO : worker thread finished; awaiting finish of 6 more threads\n",
            "2021-02-18 02:23:39,730 : INFO : worker thread finished; awaiting finish of 5 more threads\n",
            "2021-02-18 02:23:39,732 : INFO : worker thread finished; awaiting finish of 4 more threads\n",
            "2021-02-18 02:23:39,745 : INFO : worker thread finished; awaiting finish of 3 more threads\n",
            "2021-02-18 02:23:39,748 : INFO : worker thread finished; awaiting finish of 2 more threads\n",
            "2021-02-18 02:23:39,754 : INFO : worker thread finished; awaiting finish of 1 more threads\n",
            "2021-02-18 02:23:39,760 : INFO : worker thread finished; awaiting finish of 0 more threads\n",
            "2021-02-18 02:23:39,761 : INFO : EPOCH - 15 : training on 148973 raw words (96976 effective words) took 0.2s, 457995 effective words/s\n",
            "2021-02-18 02:23:39,908 : INFO : worker thread finished; awaiting finish of 7 more threads\n",
            "2021-02-18 02:23:39,934 : INFO : worker thread finished; awaiting finish of 6 more threads\n",
            "2021-02-18 02:23:39,944 : INFO : worker thread finished; awaiting finish of 5 more threads\n",
            "2021-02-18 02:23:39,954 : INFO : worker thread finished; awaiting finish of 4 more threads\n",
            "2021-02-18 02:23:39,967 : INFO : worker thread finished; awaiting finish of 3 more threads\n",
            "2021-02-18 02:23:39,977 : INFO : worker thread finished; awaiting finish of 2 more threads\n",
            "2021-02-18 02:23:39,983 : INFO : worker thread finished; awaiting finish of 1 more threads\n",
            "2021-02-18 02:23:39,985 : INFO : worker thread finished; awaiting finish of 0 more threads\n",
            "2021-02-18 02:23:39,986 : INFO : EPOCH - 16 : training on 148973 raw words (96904 effective words) took 0.2s, 453868 effective words/s\n",
            "2021-02-18 02:23:40,117 : INFO : worker thread finished; awaiting finish of 7 more threads\n",
            "2021-02-18 02:23:40,145 : INFO : worker thread finished; awaiting finish of 6 more threads\n",
            "2021-02-18 02:23:40,184 : INFO : worker thread finished; awaiting finish of 5 more threads\n",
            "2021-02-18 02:23:40,191 : INFO : worker thread finished; awaiting finish of 4 more threads\n",
            "2021-02-18 02:23:40,195 : INFO : worker thread finished; awaiting finish of 3 more threads\n",
            "2021-02-18 02:23:40,200 : INFO : worker thread finished; awaiting finish of 2 more threads\n",
            "2021-02-18 02:23:40,204 : INFO : worker thread finished; awaiting finish of 1 more threads\n",
            "2021-02-18 02:23:40,208 : INFO : worker thread finished; awaiting finish of 0 more threads\n",
            "2021-02-18 02:23:40,209 : INFO : EPOCH - 17 : training on 148973 raw words (97066 effective words) took 0.2s, 460023 effective words/s\n",
            "2021-02-18 02:23:40,359 : INFO : worker thread finished; awaiting finish of 7 more threads\n",
            "2021-02-18 02:23:40,374 : INFO : worker thread finished; awaiting finish of 6 more threads\n",
            "2021-02-18 02:23:40,378 : INFO : worker thread finished; awaiting finish of 5 more threads\n",
            "2021-02-18 02:23:40,398 : INFO : worker thread finished; awaiting finish of 4 more threads\n",
            "2021-02-18 02:23:40,408 : INFO : worker thread finished; awaiting finish of 3 more threads\n",
            "2021-02-18 02:23:40,420 : INFO : worker thread finished; awaiting finish of 2 more threads\n",
            "2021-02-18 02:23:40,426 : INFO : worker thread finished; awaiting finish of 1 more threads\n",
            "2021-02-18 02:23:40,433 : INFO : worker thread finished; awaiting finish of 0 more threads\n",
            "2021-02-18 02:23:40,434 : INFO : EPOCH - 18 : training on 148973 raw words (96893 effective words) took 0.2s, 451617 effective words/s\n",
            "2021-02-18 02:23:40,576 : INFO : worker thread finished; awaiting finish of 7 more threads\n",
            "2021-02-18 02:23:40,618 : INFO : worker thread finished; awaiting finish of 6 more threads\n",
            "2021-02-18 02:23:40,633 : INFO : worker thread finished; awaiting finish of 5 more threads\n",
            "2021-02-18 02:23:40,640 : INFO : worker thread finished; awaiting finish of 4 more threads\n",
            "2021-02-18 02:23:40,642 : INFO : worker thread finished; awaiting finish of 3 more threads\n",
            "2021-02-18 02:23:40,651 : INFO : worker thread finished; awaiting finish of 2 more threads\n",
            "2021-02-18 02:23:40,652 : INFO : worker thread finished; awaiting finish of 1 more threads\n",
            "2021-02-18 02:23:40,656 : INFO : worker thread finished; awaiting finish of 0 more threads\n",
            "2021-02-18 02:23:40,658 : INFO : EPOCH - 19 : training on 148973 raw words (97072 effective words) took 0.2s, 452097 effective words/s\n",
            "2021-02-18 02:23:40,800 : INFO : worker thread finished; awaiting finish of 7 more threads\n",
            "2021-02-18 02:23:40,858 : INFO : worker thread finished; awaiting finish of 6 more threads\n",
            "2021-02-18 02:23:40,864 : INFO : worker thread finished; awaiting finish of 5 more threads\n",
            "2021-02-18 02:23:40,870 : INFO : worker thread finished; awaiting finish of 4 more threads\n",
            "2021-02-18 02:23:40,873 : INFO : worker thread finished; awaiting finish of 3 more threads\n",
            "2021-02-18 02:23:40,879 : INFO : worker thread finished; awaiting finish of 2 more threads\n",
            "2021-02-18 02:23:40,883 : INFO : worker thread finished; awaiting finish of 1 more threads\n",
            "2021-02-18 02:23:40,883 : INFO : worker thread finished; awaiting finish of 0 more threads\n",
            "2021-02-18 02:23:40,884 : INFO : EPOCH - 20 : training on 148973 raw words (96805 effective words) took 0.2s, 445589 effective words/s\n",
            "2021-02-18 02:23:41,041 : INFO : worker thread finished; awaiting finish of 7 more threads\n",
            "2021-02-18 02:23:41,047 : INFO : worker thread finished; awaiting finish of 6 more threads\n",
            "2021-02-18 02:23:41,070 : INFO : worker thread finished; awaiting finish of 5 more threads\n",
            "2021-02-18 02:23:41,075 : INFO : worker thread finished; awaiting finish of 4 more threads\n",
            "2021-02-18 02:23:41,094 : INFO : worker thread finished; awaiting finish of 3 more threads\n",
            "2021-02-18 02:23:41,096 : INFO : worker thread finished; awaiting finish of 2 more threads\n",
            "2021-02-18 02:23:41,098 : INFO : worker thread finished; awaiting finish of 1 more threads\n",
            "2021-02-18 02:23:41,098 : INFO : worker thread finished; awaiting finish of 0 more threads\n",
            "2021-02-18 02:23:41,100 : INFO : EPOCH - 21 : training on 148973 raw words (96868 effective words) took 0.2s, 475080 effective words/s\n",
            "2021-02-18 02:23:41,246 : INFO : worker thread finished; awaiting finish of 7 more threads\n",
            "2021-02-18 02:23:41,260 : INFO : worker thread finished; awaiting finish of 6 more threads\n",
            "2021-02-18 02:23:41,267 : INFO : worker thread finished; awaiting finish of 5 more threads\n",
            "2021-02-18 02:23:41,297 : INFO : worker thread finished; awaiting finish of 4 more threads\n",
            "2021-02-18 02:23:41,313 : INFO : worker thread finished; awaiting finish of 3 more threads\n",
            "2021-02-18 02:23:41,317 : INFO : worker thread finished; awaiting finish of 2 more threads\n",
            "2021-02-18 02:23:41,318 : INFO : worker thread finished; awaiting finish of 1 more threads\n",
            "2021-02-18 02:23:41,327 : INFO : worker thread finished; awaiting finish of 0 more threads\n",
            "2021-02-18 02:23:41,327 : INFO : EPOCH - 22 : training on 148973 raw words (96887 effective words) took 0.2s, 461842 effective words/s\n",
            "2021-02-18 02:23:41,474 : INFO : worker thread finished; awaiting finish of 7 more threads\n",
            "2021-02-18 02:23:41,478 : INFO : worker thread finished; awaiting finish of 6 more threads\n",
            "2021-02-18 02:23:41,518 : INFO : worker thread finished; awaiting finish of 5 more threads\n",
            "2021-02-18 02:23:41,522 : INFO : worker thread finished; awaiting finish of 4 more threads\n",
            "2021-02-18 02:23:41,532 : INFO : worker thread finished; awaiting finish of 3 more threads\n",
            "2021-02-18 02:23:41,533 : INFO : worker thread finished; awaiting finish of 2 more threads\n",
            "2021-02-18 02:23:41,538 : INFO : worker thread finished; awaiting finish of 1 more threads\n",
            "2021-02-18 02:23:41,545 : INFO : worker thread finished; awaiting finish of 0 more threads\n",
            "2021-02-18 02:23:41,546 : INFO : EPOCH - 23 : training on 148973 raw words (97018 effective words) took 0.2s, 461391 effective words/s\n",
            "2021-02-18 02:23:41,682 : INFO : worker thread finished; awaiting finish of 7 more threads\n",
            "2021-02-18 02:23:41,687 : INFO : worker thread finished; awaiting finish of 6 more threads\n",
            "2021-02-18 02:23:41,734 : INFO : worker thread finished; awaiting finish of 5 more threads\n",
            "2021-02-18 02:23:41,741 : INFO : worker thread finished; awaiting finish of 4 more threads\n",
            "2021-02-18 02:23:41,746 : INFO : worker thread finished; awaiting finish of 3 more threads\n",
            "2021-02-18 02:23:41,756 : INFO : worker thread finished; awaiting finish of 2 more threads\n",
            "2021-02-18 02:23:41,759 : INFO : worker thread finished; awaiting finish of 1 more threads\n",
            "2021-02-18 02:23:41,760 : INFO : worker thread finished; awaiting finish of 0 more threads\n",
            "2021-02-18 02:23:41,761 : INFO : EPOCH - 24 : training on 148973 raw words (96905 effective words) took 0.2s, 477059 effective words/s\n",
            "2021-02-18 02:23:41,898 : INFO : worker thread finished; awaiting finish of 7 more threads\n",
            "2021-02-18 02:23:41,930 : INFO : worker thread finished; awaiting finish of 6 more threads\n",
            "2021-02-18 02:23:41,951 : INFO : worker thread finished; awaiting finish of 5 more threads\n",
            "2021-02-18 02:23:41,958 : INFO : worker thread finished; awaiting finish of 4 more threads\n",
            "2021-02-18 02:23:41,969 : INFO : worker thread finished; awaiting finish of 3 more threads\n",
            "2021-02-18 02:23:41,980 : INFO : worker thread finished; awaiting finish of 2 more threads\n",
            "2021-02-18 02:23:41,982 : INFO : worker thread finished; awaiting finish of 1 more threads\n",
            "2021-02-18 02:23:41,983 : INFO : worker thread finished; awaiting finish of 0 more threads\n",
            "2021-02-18 02:23:41,985 : INFO : EPOCH - 25 : training on 148973 raw words (97080 effective words) took 0.2s, 459343 effective words/s\n",
            "2021-02-18 02:23:42,105 : INFO : worker thread finished; awaiting finish of 7 more threads\n",
            "2021-02-18 02:23:42,146 : INFO : worker thread finished; awaiting finish of 6 more threads\n",
            "2021-02-18 02:23:42,184 : INFO : worker thread finished; awaiting finish of 5 more threads\n",
            "2021-02-18 02:23:42,187 : INFO : worker thread finished; awaiting finish of 4 more threads\n",
            "2021-02-18 02:23:42,188 : INFO : worker thread finished; awaiting finish of 3 more threads\n",
            "2021-02-18 02:23:42,190 : INFO : worker thread finished; awaiting finish of 2 more threads\n",
            "2021-02-18 02:23:42,191 : INFO : worker thread finished; awaiting finish of 1 more threads\n",
            "2021-02-18 02:23:42,198 : INFO : worker thread finished; awaiting finish of 0 more threads\n",
            "2021-02-18 02:23:42,199 : INFO : EPOCH - 26 : training on 148973 raw words (96989 effective words) took 0.2s, 478107 effective words/s\n",
            "2021-02-18 02:23:42,342 : INFO : worker thread finished; awaiting finish of 7 more threads\n",
            "2021-02-18 02:23:42,349 : INFO : worker thread finished; awaiting finish of 6 more threads\n",
            "2021-02-18 02:23:42,370 : INFO : worker thread finished; awaiting finish of 5 more threads\n",
            "2021-02-18 02:23:42,406 : INFO : worker thread finished; awaiting finish of 4 more threads\n",
            "2021-02-18 02:23:42,408 : INFO : worker thread finished; awaiting finish of 3 more threads\n",
            "2021-02-18 02:23:42,418 : INFO : worker thread finished; awaiting finish of 2 more threads\n",
            "2021-02-18 02:23:42,419 : INFO : worker thread finished; awaiting finish of 1 more threads\n",
            "2021-02-18 02:23:42,426 : INFO : worker thread finished; awaiting finish of 0 more threads\n",
            "2021-02-18 02:23:42,426 : INFO : EPOCH - 27 : training on 148973 raw words (97003 effective words) took 0.2s, 447529 effective words/s\n",
            "2021-02-18 02:23:42,576 : INFO : worker thread finished; awaiting finish of 7 more threads\n",
            "2021-02-18 02:23:42,580 : INFO : worker thread finished; awaiting finish of 6 more threads\n",
            "2021-02-18 02:23:42,588 : INFO : worker thread finished; awaiting finish of 5 more threads\n",
            "2021-02-18 02:23:42,618 : INFO : worker thread finished; awaiting finish of 4 more threads\n",
            "2021-02-18 02:23:42,620 : INFO : worker thread finished; awaiting finish of 3 more threads\n",
            "2021-02-18 02:23:42,636 : INFO : worker thread finished; awaiting finish of 2 more threads\n",
            "2021-02-18 02:23:42,643 : INFO : worker thread finished; awaiting finish of 1 more threads\n",
            "2021-02-18 02:23:42,648 : INFO : worker thread finished; awaiting finish of 0 more threads\n",
            "2021-02-18 02:23:42,649 : INFO : EPOCH - 28 : training on 148973 raw words (96771 effective words) took 0.2s, 458433 effective words/s\n",
            "2021-02-18 02:23:42,810 : INFO : worker thread finished; awaiting finish of 7 more threads\n",
            "2021-02-18 02:23:42,818 : INFO : worker thread finished; awaiting finish of 6 more threads\n",
            "2021-02-18 02:23:42,822 : INFO : worker thread finished; awaiting finish of 5 more threads\n",
            "2021-02-18 02:23:42,823 : INFO : worker thread finished; awaiting finish of 4 more threads\n",
            "2021-02-18 02:23:42,859 : INFO : worker thread finished; awaiting finish of 3 more threads\n",
            "2021-02-18 02:23:42,861 : INFO : worker thread finished; awaiting finish of 2 more threads\n",
            "2021-02-18 02:23:42,866 : INFO : worker thread finished; awaiting finish of 1 more threads\n",
            "2021-02-18 02:23:42,867 : INFO : worker thread finished; awaiting finish of 0 more threads\n",
            "2021-02-18 02:23:42,868 : INFO : EPOCH - 29 : training on 148973 raw words (96986 effective words) took 0.2s, 465205 effective words/s\n",
            "2021-02-18 02:23:43,016 : INFO : worker thread finished; awaiting finish of 7 more threads\n",
            "2021-02-18 02:23:43,032 : INFO : worker thread finished; awaiting finish of 6 more threads\n",
            "2021-02-18 02:23:43,064 : INFO : worker thread finished; awaiting finish of 5 more threads\n",
            "2021-02-18 02:23:43,068 : INFO : worker thread finished; awaiting finish of 4 more threads\n",
            "2021-02-18 02:23:43,071 : INFO : worker thread finished; awaiting finish of 3 more threads\n",
            "2021-02-18 02:23:43,075 : INFO : worker thread finished; awaiting finish of 2 more threads\n",
            "2021-02-18 02:23:43,080 : INFO : worker thread finished; awaiting finish of 1 more threads\n",
            "2021-02-18 02:23:43,084 : INFO : worker thread finished; awaiting finish of 0 more threads\n",
            "2021-02-18 02:23:43,085 : INFO : EPOCH - 30 : training on 148973 raw words (97071 effective words) took 0.2s, 474862 effective words/s\n",
            "2021-02-18 02:23:43,213 : INFO : worker thread finished; awaiting finish of 7 more threads\n",
            "2021-02-18 02:23:43,252 : INFO : worker thread finished; awaiting finish of 6 more threads\n",
            "2021-02-18 02:23:43,261 : INFO : worker thread finished; awaiting finish of 5 more threads\n",
            "2021-02-18 02:23:43,281 : INFO : worker thread finished; awaiting finish of 4 more threads\n",
            "2021-02-18 02:23:43,301 : INFO : worker thread finished; awaiting finish of 3 more threads\n",
            "2021-02-18 02:23:43,302 : INFO : worker thread finished; awaiting finish of 2 more threads\n",
            "2021-02-18 02:23:43,307 : INFO : worker thread finished; awaiting finish of 1 more threads\n",
            "2021-02-18 02:23:43,308 : INFO : worker thread finished; awaiting finish of 0 more threads\n",
            "2021-02-18 02:23:43,309 : INFO : EPOCH - 31 : training on 148973 raw words (96937 effective words) took 0.2s, 452920 effective words/s\n",
            "2021-02-18 02:23:43,451 : INFO : worker thread finished; awaiting finish of 7 more threads\n",
            "2021-02-18 02:23:43,459 : INFO : worker thread finished; awaiting finish of 6 more threads\n",
            "2021-02-18 02:23:43,466 : INFO : worker thread finished; awaiting finish of 5 more threads\n",
            "2021-02-18 02:23:43,499 : INFO : worker thread finished; awaiting finish of 4 more threads\n",
            "2021-02-18 02:23:43,504 : INFO : worker thread finished; awaiting finish of 3 more threads\n",
            "2021-02-18 02:23:43,517 : INFO : worker thread finished; awaiting finish of 2 more threads\n",
            "2021-02-18 02:23:43,526 : INFO : worker thread finished; awaiting finish of 1 more threads\n",
            "2021-02-18 02:23:43,528 : INFO : worker thread finished; awaiting finish of 0 more threads\n",
            "2021-02-18 02:23:43,529 : INFO : EPOCH - 32 : training on 148973 raw words (96985 effective words) took 0.2s, 465195 effective words/s\n",
            "2021-02-18 02:23:43,530 : INFO : training on a 4767136 raw words (3102524 effective words) took 7.1s, 437267 effective words/s\n"
          ],
          "name": "stderr"
        },
        {
          "output_type": "execute_result",
          "data": {
            "text/plain": [
              "(3102524, 4767136)"
            ]
          },
          "metadata": {
            "tags": []
          },
          "execution_count": 33
        }
      ]
    },
    {
      "cell_type": "code",
      "metadata": {
        "trusted": true,
        "id": "-ItwL2iWNjlt"
      },
      "source": [
        "#id_model.train(documents, total_examples=len(documents), epochs=W2V_EPOCH)"
      ],
      "execution_count": null,
      "outputs": []
    },
    {
      "cell_type": "code",
      "metadata": {
        "trusted": true,
        "id": "sxkBvXyINjlt",
        "colab": {
          "base_uri": "https://localhost:8080/"
        },
        "outputId": "cf2de5e3-47eb-4e65-db21-ca9db2dc0424"
      },
      "source": [
        "w2v_model.wv.most_similar(\"fpi\")\n",
        "#wv.most_similar()"
      ],
      "execution_count": null,
      "outputs": [
        {
          "output_type": "stream",
          "text": [
            "2021-02-18 02:23:43,562 : INFO : precomputing L2-norms of word weight vectors\n"
          ],
          "name": "stderr"
        },
        {
          "output_type": "execute_result",
          "data": {
            "text/plain": [
              "[('hti', 0.8844990730285645),\n",
              " ('rizieq', 0.8722234964370728),\n",
              " ('allahu', 0.860866367816925),\n",
              " ('akbar', 0.8552110195159912),\n",
              " ('tangkap', 0.8542754650115967),\n",
              " ('laporkan', 0.84694504737854),\n",
              " ('ditangkap', 0.8404154777526855),\n",
              " ('ancam', 0.8356495499610901),\n",
              " ('nasdem', 0.8236826658248901),\n",
              " ('pernyataan', 0.8220021724700928)]"
            ]
          },
          "metadata": {
            "tags": []
          },
          "execution_count": 35
        }
      ]
    },
    {
      "cell_type": "code",
      "metadata": {
        "trusted": true,
        "id": "nf1PmOBrNjlt",
        "colab": {
          "base_uri": "https://localhost:8080/"
        },
        "outputId": "335731c8-e392-4ddb-d9bb-94f5e7953126"
      },
      "source": [
        "w2v_model.save('word2vec.model')"
      ],
      "execution_count": null,
      "outputs": [
        {
          "output_type": "stream",
          "text": [
            "2021-02-18 02:23:43,588 : INFO : saving Word2Vec object under word2vec.model, separately None\n",
            "2021-02-18 02:23:43,589 : INFO : not storing attribute vectors_norm\n",
            "2021-02-18 02:23:43,592 : INFO : not storing attribute cum_table\n",
            "2021-02-18 02:23:43,731 : INFO : saved word2vec.model\n"
          ],
          "name": "stderr"
        }
      ]
    },
    {
      "cell_type": "code",
      "metadata": {
        "colab": {
          "base_uri": "https://localhost:8080/"
        },
        "id": "h5Z77ByZUrpn",
        "outputId": "3fd3c049-875f-4ac0-b818-2292a9c1b584"
      },
      "source": [
        "tokenizer = Tokenizer()\n",
        "tokenizer.fit_on_texts(df_train.Tweet)\n",
        "\n",
        "vocab_size = len(tokenizer.word_index) + 1\n",
        "print(\"Total words\", vocab_size)"
      ],
      "execution_count": null,
      "outputs": [
        {
          "output_type": "stream",
          "text": [
            "Total words 24555\n"
          ],
          "name": "stdout"
        }
      ]
    },
    {
      "cell_type": "code",
      "metadata": {
        "id": "_bCPvF4bgXiV"
      },
      "source": [
        "x_train = pad_sequences(tokenizer.texts_to_sequences(df_train.Tweet), maxlen=SEQUENCE_LENGTH)\n",
        "x_test = pad_sequences(tokenizer.texts_to_sequences(df_test.Tweet), maxlen=SEQUENCE_LENGTH)"
      ],
      "execution_count": null,
      "outputs": []
    },
    {
      "cell_type": "code",
      "metadata": {
        "id": "IajJYMk-gpyA"
      },
      "source": [
        "#label encode\n",
        "labels = df_train.negative.unique().tolist()"
      ],
      "execution_count": null,
      "outputs": []
    },
    {
      "cell_type": "code",
      "metadata": {
        "colab": {
          "base_uri": "https://localhost:8080/"
        },
        "id": "d7xb4uk3gvjX",
        "outputId": "2e871e0b-e422-486c-a3c2-75bf743f17e7"
      },
      "source": [
        "encoder = LabelEncoder()\n",
        "encoder.fit(df_train.negative.tolist())\n",
        "\n",
        "y_train = encoder.transform(df_train.negative.tolist())\n",
        "y_test = encoder.transform(df_test.negative.tolist())\n",
        "\n",
        "y_train = y_train.reshape(-1,1)\n",
        "y_test = y_test.reshape(-1,1)\n",
        "\n",
        "print(\"y_train\",y_train.shape)\n",
        "print(\"y_test\",y_test.shape)"
      ],
      "execution_count": null,
      "outputs": [
        {
          "output_type": "stream",
          "text": [
            "y_train (10535, 1)\n",
            "y_test (2634, 1)\n"
          ],
          "name": "stdout"
        }
      ]
    },
    {
      "cell_type": "code",
      "metadata": {
        "colab": {
          "base_uri": "https://localhost:8080/"
        },
        "id": "uFgYq0FljQhb",
        "outputId": "0c3ad447-7076-4cd1-d2c2-bc591a2b7ee3"
      },
      "source": [
        "#embedding is to help us cluster the words together \n",
        "embedding_matrix = np.zeros((vocab_size, W2V_SIZE))\n",
        "for word, i in tokenizer.word_index.items():\n",
        "  if word in w2v_model.wv:\n",
        "    embedding_matrix[i] = w2v_model.wv[word]\n",
        "print(embedding_matrix.shape)"
      ],
      "execution_count": null,
      "outputs": [
        {
          "output_type": "stream",
          "text": [
            "(24555, 300)\n"
          ],
          "name": "stdout"
        }
      ]
    },
    {
      "cell_type": "code",
      "metadata": {
        "id": "n4y9rGr1j4lA"
      },
      "source": [
        "embedding_layer = Embedding(vocab_size, W2V_SIZE, weights=[embedding_matrix], input_length=SEQUENCE_LENGTH, trainable=False)"
      ],
      "execution_count": null,
      "outputs": []
    },
    {
      "cell_type": "code",
      "metadata": {
        "colab": {
          "base_uri": "https://localhost:8080/"
        },
        "id": "QbYQSQlaj8uJ",
        "outputId": "af7ed139-9204-4868-c41f-efd9d20e6027"
      },
      "source": [
        "from tensorflow.keras.layers import Input, Dense, Embedding, LSTM, GlobalMaxPooling1D\n",
        "from tensorflow.keras.models import Model\n",
        "\n",
        "model = Sequential()\n",
        "model.add(embedding_layer)\n",
        "model.add(Dropout(0.5))\n",
        "model.add(LSTM(100, dropout=0.2, recurrent_dropout=0.2))\n",
        "model.add(Dense(1, activation='sigmoid'))\n",
        "\n",
        "model.summary()"
      ],
      "execution_count": null,
      "outputs": [
        {
          "output_type": "stream",
          "text": [
            "WARNING:tensorflow:Layer lstm will not use cuDNN kernel since it doesn't meet the cuDNN kernel criteria. It will use generic GPU kernel as fallback when running on GPU\n"
          ],
          "name": "stdout"
        },
        {
          "output_type": "stream",
          "text": [
            "2021-02-18 02:23:49,777 : WARNING : Layer lstm will not use cuDNN kernel since it doesn't meet the cuDNN kernel criteria. It will use generic GPU kernel as fallback when running on GPU\n"
          ],
          "name": "stderr"
        },
        {
          "output_type": "stream",
          "text": [
            "Model: \"sequential\"\n",
            "_________________________________________________________________\n",
            "Layer (type)                 Output Shape              Param #   \n",
            "=================================================================\n",
            "embedding (Embedding)        (None, 300, 300)          7366500   \n",
            "_________________________________________________________________\n",
            "dropout (Dropout)            (None, 300, 300)          0         \n",
            "_________________________________________________________________\n",
            "lstm (LSTM)                  (None, 100)               160400    \n",
            "_________________________________________________________________\n",
            "dense (Dense)                (None, 1)                 101       \n",
            "=================================================================\n",
            "Total params: 7,527,001\n",
            "Trainable params: 160,501\n",
            "Non-trainable params: 7,366,500\n",
            "_________________________________________________________________\n"
          ],
          "name": "stdout"
        }
      ]
    },
    {
      "cell_type": "code",
      "metadata": {
        "id": "riI1xWsBj_2s"
      },
      "source": [
        "model.compile(optimizer='adam', \n",
        "              loss='binary_crossentropy', \n",
        "              metrics=['accuracy'])"
      ],
      "execution_count": null,
      "outputs": []
    },
    {
      "cell_type": "code",
      "metadata": {
        "id": "fqD3Z_jekDlQ"
      },
      "source": [
        "callbacks = [ ReduceLROnPlateau(monitor='val_loss', patience=5, cooldown=0),\n",
        "              EarlyStopping(monitor='val_acc', min_delta=1e-4, patience=5)]"
      ],
      "execution_count": null,
      "outputs": []
    },
    {
      "cell_type": "code",
      "metadata": {
        "colab": {
          "base_uri": "https://localhost:8080/"
        },
        "id": "sce5DgYtkGJj",
        "outputId": "33020e07-6296-442a-bb7c-92fe43182445"
      },
      "source": [
        "history = model.fit(x_train, y_train,\n",
        "                    batch_size=128,\n",
        "                    epochs=EPOCHS,\n",
        "                    validation_split=0.1,\n",
        "                    verbose=1,\n",
        "                    callbacks=callbacks)"
      ],
      "execution_count": null,
      "outputs": [
        {
          "output_type": "stream",
          "text": [
            "Epoch 1/8\n",
            "75/75 [==============================] - 72s 913ms/step - loss: 0.5051 - accuracy: 0.7589 - val_loss: 0.4015 - val_accuracy: 0.8283\n",
            "WARNING:tensorflow:Early stopping conditioned on metric `val_acc` which is not available. Available metrics are: loss,accuracy,val_loss,val_accuracy,lr\n"
          ],
          "name": "stdout"
        },
        {
          "output_type": "stream",
          "text": [
            "2021-02-18 02:25:02,190 : WARNING : Early stopping conditioned on metric `val_acc` which is not available. Available metrics are: loss,accuracy,val_loss,val_accuracy,lr\n"
          ],
          "name": "stderr"
        },
        {
          "output_type": "stream",
          "text": [
            "Epoch 2/8\n",
            "75/75 [==============================] - 68s 902ms/step - loss: 0.4056 - accuracy: 0.8200 - val_loss: 0.3836 - val_accuracy: 0.8292\n",
            "WARNING:tensorflow:Early stopping conditioned on metric `val_acc` which is not available. Available metrics are: loss,accuracy,val_loss,val_accuracy,lr\n"
          ],
          "name": "stdout"
        },
        {
          "output_type": "stream",
          "text": [
            "2021-02-18 02:26:09,832 : WARNING : Early stopping conditioned on metric `val_acc` which is not available. Available metrics are: loss,accuracy,val_loss,val_accuracy,lr\n"
          ],
          "name": "stderr"
        },
        {
          "output_type": "stream",
          "text": [
            "Epoch 3/8\n",
            "75/75 [==============================] - 67s 893ms/step - loss: 0.3890 - accuracy: 0.8274 - val_loss: 0.3671 - val_accuracy: 0.8340\n",
            "WARNING:tensorflow:Early stopping conditioned on metric `val_acc` which is not available. Available metrics are: loss,accuracy,val_loss,val_accuracy,lr\n"
          ],
          "name": "stdout"
        },
        {
          "output_type": "stream",
          "text": [
            "2021-02-18 02:27:16,875 : WARNING : Early stopping conditioned on metric `val_acc` which is not available. Available metrics are: loss,accuracy,val_loss,val_accuracy,lr\n"
          ],
          "name": "stderr"
        },
        {
          "output_type": "stream",
          "text": [
            "Epoch 4/8\n",
            "75/75 [==============================] - 68s 901ms/step - loss: 0.3820 - accuracy: 0.8310 - val_loss: 0.3570 - val_accuracy: 0.8406\n",
            "WARNING:tensorflow:Early stopping conditioned on metric `val_acc` which is not available. Available metrics are: loss,accuracy,val_loss,val_accuracy,lr\n"
          ],
          "name": "stdout"
        },
        {
          "output_type": "stream",
          "text": [
            "2021-02-18 02:28:24,390 : WARNING : Early stopping conditioned on metric `val_acc` which is not available. Available metrics are: loss,accuracy,val_loss,val_accuracy,lr\n"
          ],
          "name": "stderr"
        },
        {
          "output_type": "stream",
          "text": [
            "Epoch 5/8\n",
            "75/75 [==============================] - 66s 881ms/step - loss: 0.3517 - accuracy: 0.8407 - val_loss: 0.3295 - val_accuracy: 0.8444\n",
            "WARNING:tensorflow:Early stopping conditioned on metric `val_acc` which is not available. Available metrics are: loss,accuracy,val_loss,val_accuracy,lr\n"
          ],
          "name": "stdout"
        },
        {
          "output_type": "stream",
          "text": [
            "2021-02-18 02:29:30,487 : WARNING : Early stopping conditioned on metric `val_acc` which is not available. Available metrics are: loss,accuracy,val_loss,val_accuracy,lr\n"
          ],
          "name": "stderr"
        },
        {
          "output_type": "stream",
          "text": [
            "Epoch 6/8\n",
            "75/75 [==============================] - 67s 889ms/step - loss: 0.3435 - accuracy: 0.8515 - val_loss: 0.3232 - val_accuracy: 0.8501\n",
            "WARNING:tensorflow:Early stopping conditioned on metric `val_acc` which is not available. Available metrics are: loss,accuracy,val_loss,val_accuracy,lr\n"
          ],
          "name": "stdout"
        },
        {
          "output_type": "stream",
          "text": [
            "2021-02-18 02:30:37,207 : WARNING : Early stopping conditioned on metric `val_acc` which is not available. Available metrics are: loss,accuracy,val_loss,val_accuracy,lr\n"
          ],
          "name": "stderr"
        },
        {
          "output_type": "stream",
          "text": [
            "Epoch 7/8\n",
            "75/75 [==============================] - 68s 910ms/step - loss: 0.3259 - accuracy: 0.8614 - val_loss: 0.3218 - val_accuracy: 0.8548\n",
            "WARNING:tensorflow:Early stopping conditioned on metric `val_acc` which is not available. Available metrics are: loss,accuracy,val_loss,val_accuracy,lr\n"
          ],
          "name": "stdout"
        },
        {
          "output_type": "stream",
          "text": [
            "2021-02-18 02:31:45,445 : WARNING : Early stopping conditioned on metric `val_acc` which is not available. Available metrics are: loss,accuracy,val_loss,val_accuracy,lr\n"
          ],
          "name": "stderr"
        },
        {
          "output_type": "stream",
          "text": [
            "Epoch 8/8\n",
            "75/75 [==============================] - 67s 895ms/step - loss: 0.3305 - accuracy: 0.8554 - val_loss: 0.3144 - val_accuracy: 0.8672\n",
            "WARNING:tensorflow:Early stopping conditioned on metric `val_acc` which is not available. Available metrics are: loss,accuracy,val_loss,val_accuracy,lr\n"
          ],
          "name": "stdout"
        },
        {
          "output_type": "stream",
          "text": [
            "2021-02-18 02:32:52,615 : WARNING : Early stopping conditioned on metric `val_acc` which is not available. Available metrics are: loss,accuracy,val_loss,val_accuracy,lr\n"
          ],
          "name": "stderr"
        }
      ]
    },
    {
      "cell_type": "code",
      "metadata": {
        "id": "gRgXZ5-TkInx",
        "colab": {
          "base_uri": "https://localhost:8080/"
        },
        "outputId": "7c1dd081-6533-4606-d188-d7e466b8aec8"
      },
      "source": [
        "#evaluate model \n",
        "score = model.evaluate(x_test, y_test, batch_size=300)\n",
        "print()\n",
        "print(\"ACCURACY:\",score[1])\n",
        "print(\"LOSS:\",score[0])"
      ],
      "execution_count": null,
      "outputs": [
        {
          "output_type": "stream",
          "text": [
            "9/9 [==============================] - 1s 95ms/step - loss: 0.3275 - accuracy: 0.8569\n",
            "\n",
            "ACCURACY: 0.8568716645240784\n",
            "LOSS: 0.3274555206298828\n"
          ],
          "name": "stdout"
        }
      ]
    },
    {
      "cell_type": "code",
      "metadata": {
        "id": "GrAId0RvSMYM",
        "colab": {
          "base_uri": "https://localhost:8080/",
          "height": 545
        },
        "outputId": "8778e4fb-3370-4c01-81ff-2ae4cd8369b6"
      },
      "source": [
        "#ROC vizialization\n",
        "acc = history.history['accuracy']\n",
        "val_acc = history.history['val_accuracy']\n",
        "loss = history.history['loss']\n",
        "val_loss = history.history['val_loss']\n",
        " \n",
        "epochs = range(len(acc))\n",
        " \n",
        "plt.plot(epochs, acc, 'b', label='Training acc')\n",
        "plt.plot(epochs, val_acc, 'r', label='Validation acc')\n",
        "plt.title('Training and validation accuracy')\n",
        "plt.legend()\n",
        " \n",
        "plt.figure()\n",
        " \n",
        "plt.plot(epochs, loss, 'b', label='Training loss')\n",
        "plt.plot(epochs, val_loss, 'r', label='Validation loss')\n",
        "plt.title('Training and validation loss')\n",
        "plt.legend()\n",
        "\n",
        "plt.show()"
      ],
      "execution_count": null,
      "outputs": [
        {
          "output_type": "display_data",
          "data": {
            "image/png": "[encoded data removed]",
            "text/plain": [
              "<Figure size 432x288 with 1 Axes>"
            ]
          },
          "metadata": {
            "tags": [],
            "needs_background": "light"
          }
        },
        {
          "output_type": "display_data",
          "data": {
            "image/png": "[encoded data removed]",
            "text/plain": [
              "<Figure size 432x288 with 1 Axes>"
            ]
          },
          "metadata": {
            "tags": [],
            "needs_background": "light"
          }
        }
      ]
    },
    {
      "cell_type": "code",
      "metadata": {
        "id": "l2gYnjvkJOES"
      },
      "source": [
        "def decode_sentiment(score, include_neutral=True):\n",
        "    if include_neutral:        \n",
        "        label = NEUTRAL\n",
        "        if score <= SENTIMENT_THRESHOLDS[0]:\n",
        "            label = NEGATIVE\n",
        "        elif score >= SENTIMENT_THRESHOLDS[1]:\n",
        "            label = NEUTRAL\n",
        "\n",
        "        return label\n",
        "    else:\n",
        "        return NEGATIVE if score < 0.5 else NEUTRAL"
      ],
      "execution_count": null,
      "outputs": []
    },
    {
      "cell_type": "code",
      "metadata": {
        "id": "tXg76WpksIDc"
      },
      "source": [
        "prdef predict(text, include_neutral=True):\n",
        "    start_at = time.time()\n",
        "    # Tokenize text\n",
        "    x_test = pad_sequences(tokenizer.texts_to_sequences([text]), maxlen=SEQUENCE_LENGTH)\n",
        "    # Predict\n",
        "    score = model.predict([x_test])[0]\n",
        "    # Decode sentiment\n",
        "    label = decode_sentiment(score, include_neutral=include_neutral)\n",
        "\n",
        "    return {\"label\": label, \"score\": float(score),\n",
        "       \"elapsed_time\": time.time()-start_at}  "
      ],
      "execution_count": null,
      "outputs": []
    },
    {
      "cell_type": "code",
      "metadata": {
        "id": "TQlAKUKOsK39",
        "colab": {
          "base_uri": "https://localhost:8080/"
        },
        "outputId": "edc14dd5-10c7-4280-9851-a9ed30fb9288"
      },
      "source": [
        "predict(\"  Sebanyak 2.630 tenaga kesehatan (nakes) di RSD Wisma Atlet Kemayoran, Jakarta Pusat, bakal divaksinasi COVID-19 secara bertahap. Vaksinasi terhadap para tenaga kesehatan ini diprioritaskan karena mereka bersinggungan langsung dengan pasien.Sekitar 2.630 orang ini yang kita prioritaskan, karena mereka langsung bersinggungan dengan para pasien, ujar Pangdam Jaya Mayjen TNI Dudung Abdurachman, kepada wartawan, Rabu (20/1/2021).Pelaksanaan vaksinasi terhadap nakes ini dimulai dari pukul 09.00 WIB sampai 13.00 WIB. Sampai pukul 09.40 WIB, vaksinasi sudah berjalan 25%.Jumlah tenaga kesehatan yang divaksinasi di Wisma Atlet sebanyak 180 dalam setiap hari. Hari ini merupakan hari kedua proses vaksinasi di Wisma Atlet.Jadi saat ini sudah mencapai kurang-lebih sekitar 25% dan ini berlanjut dari jam 09.00 WIB sampai jam 13.00 WIB, kata Dudung.Dudung turut memantau pelaksanaan vaksinasi yang dilaksanakan di Tower 3, Lt 2 Wisma Atlet. Dudung juga terlihat bertanya kepada salah satu nakes yang sudah disuntik vaksin.Kemudian tadi saya tanya langsung kepada nakes yang tadi sudah disuntik, tidak ada dampak apa pun, sehat-sehat saja dan seperti biasa, kata Dudung.Dudung mengatakan pelaksanaan vaksinasi terhadap nakes ini berjalan dengan lancar. Tempat menyimpan vaksin pun sudah sesuai dengan standar di masing-masing puskesmas.Tadi saya lihat secara langsung bahwa, pelaksanaan berjalan lancar. Karena tenaga kerja memang profesional, kemudian vaksin juga disimpan di tempat yang sudah sesuai dengan standar di masing-masing puskesmas, ujar Dudung.Proses vaksinasi itu selanjutnya akan diberikan kepada tenaga profesional lainnya. Tenaga profesional yang akan divaksinasi setelah nakes di antaranya anggota TNI, kepolisian, guru, dan profesional lainnya.Pelaksanaan ini hanya ditujukan kepada tenaga kesehatan terlebih dahulu. Selanjutnya bertahap nanti akan diberikan kepada tenaga profesional dan pelayanan publik, ujar Dudung.Ya seperti anggota TNI, kepolisian kemudian guru dan profesional lainnya, sambung Dudung.\")"
      ],
      "execution_count": null,
      "outputs": [
        {
          "output_type": "execute_result",
          "data": {
            "text/plain": [
              "{'elapsed_time': 0.2916722297668457,\n",
              " 'label': 'NEUTRAL',\n",
              " 'score': 0.9979752898216248}"
            ]
          },
          "metadata": {
            "tags": []
          },
          "execution_count": 51
        }
      ]
    },
    {
      "cell_type": "code",
      "metadata": {
        "id": "TRmoqegusQgK",
        "colab": {
          "base_uri": "https://localhost:8080/"
        },
        "outputId": "964df17b-3a18-48ce-b61c-c0effcf636b6"
      },
      "source": [
        "predict(\"Jakarta - Aksi Raffi Ahmad yang datang ke pesta ulang tahun Ricardo Gelael usai divaksinasi Corona berbuntut panjang. Ada juga pihak yang menggugat Raffi Ahmad secara perdata karena dianggap melanggar protokol kesehatan.Raffi Ahmad digugat perdata oleh advokat David Tobing di Pengadilan Negeri Depok. David Tobing menilai apa yang dilakukan oleh Raffi Ahmad datang ke pesta usai disuntik vaksin Corona melanggar protokol kesehatan.27 Januari 2021 sidang perdana Raffi Ahmad terkait gugatan tersebut akan digelar. Pihak pengadilan pun sudah mengirimkan surat panggilan kepada Raffi Ahmad.Jadi setelah majelis hakim mengeluarkan penetapan hari sidang, kemudian memerintahkan jurusita pengadilan untuk melakukan panggilan kepada para pihak, jelas Humas Pengadilan Negeri Depok, Nanang Herjunanto melalui sambungan telepon.Panggilan itu sah dan patutnya tiga hari sebelum sidang itu dilaksanakan, imbuhnya.Akan tetapi, Nanang belum bisa memastikan apakah Raffi Ahmad sudah menerima surat panggilan itu atau belum. Saat sidang, para pihak, yakni tergugat dan penggugat dalam hal ini David Tobing sebagai penggugat dan Raffi Ahmad sebagai tergugat diharapkan hadir.David Tobing menggugat Raffi Ahmad ke Pengadilan Negeri Depok pada 15 Januari 2021. Penggugat menduga Raffi Ahmad melanggar aturan protokol kesehatan dalam Peraturan Gubernur Provinsi DKI Jakarta No. 3 tahun 2021 tentang Peraturan Pelaksanaan Peraturan Daerah Nomor 2 Tahun 2020 Tentang Penanggulangan Corona Virus Disease 2019.Termasuk juga tentang Peraturan Daerah Provinsi DKI Jakarta No. 2 tahun 2020 tentang Penanggulangan Corona Virus Disease 2019, dan Undang-Undang No. 6 tahun 2018 tentang Kekarantinaan Kesehatan.Dalam gugatannya, David Tobing ingin Raffi Ahmad tidak boleh meninggalkan rumah selama satu bulan atau 30 hari sejak penyuntikan vaksin Corona kedua diberikan kepadanya.Raffi Ahmad juga harus meminta maaf di tujuh koran, masing-masing setengah halaman, dan tujuh stasiun televisi.\")"
      ],
      "execution_count": null,
      "outputs": [
        {
          "output_type": "execute_result",
          "data": {
            "text/plain": [
              "{'elapsed_time': 0.08864521980285645,\n",
              " 'label': 'NEUTRAL',\n",
              " 'score': 0.997605562210083}"
            ]
          },
          "metadata": {
            "tags": []
          },
          "execution_count": 52
        }
      ]
    },
    {
      "cell_type": "code",
      "metadata": {
        "id": "z0EqcdZQscd0",
        "colab": {
          "base_uri": "https://localhost:8080/"
        },
        "outputId": "9065f6e1-137f-45b5-a539-66e4bf7cb0f1"
      },
      "source": [
        "predict(\"ceboKoq perdata ?? Ahok nd sekalian kah ? Yg punya hajaat ???ng\")"
      ],
      "execution_count": null,
      "outputs": [
        {
          "output_type": "execute_result",
          "data": {
            "text/plain": [
              "{'elapsed_time': 0.0833582878112793,\n",
              " 'label': 'NEGATIVE',\n",
              " 'score': 0.08259451389312744}"
            ]
          },
          "metadata": {
            "tags": []
          },
          "execution_count": 53
        }
      ]
    },
    {
      "cell_type": "code",
      "metadata": {
        "id": "7dzTTNC_sikH",
        "colab": {
          "base_uri": "https://localhost:8080/"
        },
        "outputId": "4027480d-3f2d-41b6-a61c-84934687c16f"
      },
      "source": [
        "predict(\"saya suka gadis prancis\")"
      ],
      "execution_count": null,
      "outputs": [
        {
          "output_type": "execute_result",
          "data": {
            "text/plain": [
              "{'elapsed_time': 0.08534574508666992,\n",
              " 'label': 'NEUTRAL',\n",
              " 'score': 0.8644256591796875}"
            ]
          },
          "metadata": {
            "tags": []
          },
          "execution_count": 54
        }
      ]
    },
    {
      "cell_type": "code",
      "metadata": {
        "id": "wAixE5sest5c",
        "colab": {
          "base_uri": "https://localhost:8080/"
        },
        "outputId": "2389539d-6cad-452f-835a-82a198f57f66"
      },
      "source": [
        "predict('saya tidak suka gadis prancis')"
      ],
      "execution_count": null,
      "outputs": [
        {
          "output_type": "execute_result",
          "data": {
            "text/plain": [
              "{'elapsed_time': 0.08269643783569336,\n",
              " 'label': 'NEUTRAL',\n",
              " 'score': 0.9103294014930725}"
            ]
          },
          "metadata": {
            "tags": []
          },
          "execution_count": 55
        }
      ]
    },
    {
      "cell_type": "code",
      "metadata": {
        "id": "P2ivBMUTsxPd",
        "colab": {
          "base_uri": "https://localhost:8080/"
        },
        "outputId": "64c29ecf-4438-4ac0-e5a4-007bb1ef011e"
      },
      "source": [
        "predict('Saya seeokor sapi')"
      ],
      "execution_count": null,
      "outputs": [
        {
          "output_type": "execute_result",
          "data": {
            "text/plain": [
              "{'elapsed_time': 0.08310294151306152,\n",
              " 'label': 'NEUTRAL',\n",
              " 'score': 0.5854031443595886}"
            ]
          },
          "metadata": {
            "tags": []
          },
          "execution_count": 56
        }
      ]
    },
    {
      "cell_type": "code",
      "metadata": {
        "colab": {
          "base_uri": "https://localhost:8080/"
        },
        "id": "L9Z3dyrZtAad",
        "outputId": "004c1f26-ab21-49a6-83cc-391572c497f4"
      },
      "source": [
        "%%time\n",
        "y_pred_1d = []\n",
        "y_test_1d = list(df_test.negative)\n",
        "scores = model.predict(x_test, verbose=1, batch_size=300)\n",
        "y_pred_1d = [decode_sentiment(score, include_neutral=False) for score in scores]"
      ],
      "execution_count": null,
      "outputs": [
        {
          "output_type": "stream",
          "text": [
            "9/9 [==============================] - 1s 100ms/step\n",
            "CPU times: user 1.05 s, sys: 6.41 ms, total: 1.06 s\n",
            "Wall time: 1.14 s\n"
          ],
          "name": "stdout"
        }
      ]
    },
    {
      "cell_type": "code",
      "metadata": {
        "id": "5ch2AeGXtWnG"
      },
      "source": [
        "def plot_confusion_matrix(cm, classes,\n",
        "                          title='Confusion matrix',\n",
        "                          cmap=plt.cm.Blues):\n",
        "    \"\"\"\n",
        "    This function prints and plots the confusion matrix.\n",
        "    Normalization can be applied by setting `normalize=True`.\n",
        "    \"\"\"\n",
        "\n",
        "    cm = cm.astype('float') / cm.sum(axis=1)[:, np.newaxis]\n",
        "\n",
        "    plt.imshow(cm, interpolation='nearest', cmap=cmap)\n",
        "    plt.title(title, fontsize=30)\n",
        "    plt.colorbar()\n",
        "    tick_marks = np.arange(len(classes))\n",
        "    plt.xticks(tick_marks, classes, rotation=90, fontsize=22)\n",
        "    plt.yticks(tick_marks, classes, fontsize=22)\n",
        "\n",
        "    fmt = '.2f'\n",
        "    thresh = cm.max() / 2.\n",
        "    for i, j in itertools.product(range(cm.shape[0]), range(cm.shape[1])):\n",
        "        plt.text(j, i, format(cm[i, j], fmt),\n",
        "                 horizontalalignment=\"center\",\n",
        "                 color=\"white\" if cm[i, j] > thresh else \"black\")\n",
        "\n",
        "    plt.ylabel('True label', fontsize=25)\n",
        "    plt.xlabel('Predicted label', fontsize=25)"
      ],
      "execution_count": null,
      "outputs": []
    },
    {
      "cell_type": "code",
      "metadata": {
        "colab": {
          "base_uri": "https://localhost:8080/",
          "height": 769
        },
        "id": "TLfPmImbtgbK",
        "outputId": "1de08cd6-927a-481d-df6f-cc20fe5f5aab"
      },
      "source": [
        "\n",
        "cnf_matrix = confusion_matrix(y_test_1d, y_pred_1d)\n",
        "plt.figure(figsize=(12,12))\n",
        "plot_confusion_matrix(cnf_matrix, classes=df_train.negative.unique(), title=\"Confusion matrix\")\n",
        "plt.show()"
      ],
      "execution_count": null,
      "outputs": [
        {
          "output_type": "display_data",
          "data": {
            "image/png": "[encoded data removed]",
            "text/plain": [
              "<Figure size 864x864 with 2 Axes>"
            ]
          },
          "metadata": {
            "tags": [],
            "needs_background": "light"
          }
        }
      ]
    },
    {
      "cell_type": "code",
      "metadata": {
        "colab": {
          "base_uri": "https://localhost:8080/"
        },
        "id": "zvhrSxontwFB",
        "outputId": "0e097418-cf3f-4f7c-8a17-abd6e449cbe9"
      },
      "source": [
        "print(classification_report(y_test_1d, y_pred_1d))"
      ],
      "execution_count": null,
      "outputs": [
        {
          "output_type": "stream",
          "text": [
            "              precision    recall  f1-score   support\n",
            "\n",
            "    NEGATIVE       0.86      0.89      0.87      1459\n",
            "     NEUTRAL       0.86      0.81      0.84      1175\n",
            "\n",
            "    accuracy                           0.86      2634\n",
            "   macro avg       0.86      0.85      0.85      2634\n",
            "weighted avg       0.86      0.86      0.86      2634\n",
            "\n"
          ],
          "name": "stdout"
        }
      ]
    },
    {
      "cell_type": "code",
      "metadata": {
        "id": "Ghd4nqG2t7ae",
        "colab": {
          "base_uri": "https://localhost:8080/"
        },
        "outputId": "82e3a2d8-1fd0-48f0-954b-7790718be807"
      },
      "source": [
        "print('hello')"
      ],
      "execution_count": null,
      "outputs": [
        {
          "output_type": "stream",
          "text": [
            "hello\n"
          ],
          "name": "stdout"
        }
      ]
    },
    {
      "cell_type": "code",
      "metadata": {
        "id": "5MVUImQEUBQ6"
      },
      "source": [
        "from keras.models import load_model"
      ],
      "execution_count": null,
      "outputs": []
    },
    {
      "cell_type": "code",
      "metadata": {
        "id": "MpfkOc13PET2"
      },
      "source": [
        "model.save('sentiment_model.h5')"
      ],
      "execution_count": null,
      "outputs": []
    },
    {
      "cell_type": "code",
      "metadata": {
        "colab": {
          "base_uri": "https://localhost:8080/"
        },
        "id": "HAEsOAJjPSiu",
        "outputId": "cfd98a84-4b0e-4cc4-d695-4f0221d150cf"
      },
      "source": [
        "predict('tai')"
      ],
      "execution_count": null,
      "outputs": [
        {
          "output_type": "execute_result",
          "data": {
            "text/plain": [
              "{'elapsed_time': 0.08764338493347168,\n",
              " 'label': 'NEGATIVE',\n",
              " 'score': 0.0715569332242012}"
            ]
          },
          "metadata": {
            "tags": []
          },
          "execution_count": 64
        }
      ]
    }
  ]
}